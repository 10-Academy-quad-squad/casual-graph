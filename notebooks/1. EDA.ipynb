{
 "cells": [
  {
   "cell_type": "markdown",
   "metadata": {},
   "source": [
    "# Exploratory Data Analysis"
   ]
  },
  {
   "cell_type": "markdown",
   "metadata": {},
   "source": [
    "## Imports"
   ]
  },
  {
   "cell_type": "code",
   "execution_count": 31,
   "metadata": {},
   "outputs": [],
   "source": [
    "import os\n",
    "import sys\n",
    "import warnings\n",
    "import numpy as np\n",
    "import pandas as pd\n",
    "import seaborn as sns\n",
    "import matplotlib.pyplot as plt\n",
    "from IPython.display import Markdown, display, Image, display_html"
   ]
  },
  {
   "cell_type": "code",
   "execution_count": 2,
   "metadata": {},
   "outputs": [],
   "source": [
    "sns.set()\n",
    "%matplotlib inline\n",
    "warnings.filterwarnings(\"ignore\")\n",
    "pd.set_option('display.max_columns', None)\n",
    "pd.set_option('display.max_colwidth', None)\n",
    "pd.set_option(\"expand_frame_repr\", False)\n",
    "pd.set_option('display.float_format', '{:.2f}'.format)"
   ]
  },
  {
   "cell_type": "code",
   "execution_count": 3,
   "metadata": {},
   "outputs": [],
   "source": [
    "sys.path.append(os.path.abspath(os.path.join('../scripts')))"
   ]
  },
  {
   "cell_type": "code",
   "execution_count": 4,
   "metadata": {},
   "outputs": [],
   "source": [
    "from df_overview import DfOverview\n",
    "from df_outlier import DfOutlier\n",
    "from file_handler import FileHandler\n",
    "import vis_seaborn as vs\n",
    "from eda_helper import Helper\n",
    "from df_cleaner import *"
   ]
  },
  {
   "cell_type": "code",
   "execution_count": 5,
   "metadata": {},
   "outputs": [],
   "source": [
    "helper = Helper()"
   ]
  },
  {
   "cell_type": "markdown",
   "metadata": {},
   "source": [
    "## Data"
   ]
  },
  {
   "cell_type": "markdown",
   "metadata": {},
   "source": [
    "Features include:\n",
    "- ID number\n",
    "- Diagnosis(M=malignant, B=benign)\n",
    "- radius(mean of distances from center to points on the perimeter)\n",
    "- texture(standard deviation of gray - scale values)\n",
    "- perimeter\n",
    "- area\n",
    "- smoothness(local variation in radius lengths)\n",
    "- compactness(perimeter ^ 2 / area - 1.0)\n",
    "- concavity(severity of concave portions of the contour)\n",
    "- concave points(number of concave portions of the contour)\n",
    "- symmetry\n",
    "- fractal dimension(\"coastline approximation\" - 1)\n",
    "\n",
    "The mean, standard error and \"worst\" or largest(mean of the three largest values) of these features were computed for each image, resulting in 30 features. For instance, field 3 is Mean Radius, field 13 is Radius SE, field 23 is Worst Radius.All feature values are recoded with four significant digits."
   ]
  },
  {
   "cell_type": "markdown",
   "metadata": {},
   "source": [
    "## Data reading"
   ]
  },
  {
   "cell_type": "code",
   "execution_count": 6,
   "metadata": {},
   "outputs": [],
   "source": [
    "# create a FileHandler object\n",
    "file_handler = FileHandler()"
   ]
  },
  {
   "cell_type": "code",
   "execution_count": 7,
   "metadata": {},
   "outputs": [
    {
     "data": {
      "text/html": "<div>\n<style scoped>\n    .dataframe tbody tr th:only-of-type {\n        vertical-align: middle;\n    }\n\n    .dataframe tbody tr th {\n        vertical-align: top;\n    }\n\n    .dataframe thead th {\n        text-align: right;\n    }\n</style>\n<table border=\"1\" class=\"dataframe\">\n  <thead>\n    <tr style=\"text-align: right;\">\n      <th></th>\n      <th>id</th>\n      <th>diagnosis</th>\n      <th>radius_mean</th>\n      <th>texture_mean</th>\n      <th>perimeter_mean</th>\n      <th>area_mean</th>\n      <th>smoothness_mean</th>\n      <th>compactness_mean</th>\n      <th>concavity_mean</th>\n      <th>concave points_mean</th>\n      <th>symmetry_mean</th>\n      <th>fractal_dimension_mean</th>\n      <th>radius_se</th>\n      <th>texture_se</th>\n      <th>perimeter_se</th>\n      <th>area_se</th>\n      <th>smoothness_se</th>\n      <th>compactness_se</th>\n      <th>concavity_se</th>\n      <th>concave points_se</th>\n      <th>symmetry_se</th>\n      <th>fractal_dimension_se</th>\n      <th>radius_worst</th>\n      <th>texture_worst</th>\n      <th>perimeter_worst</th>\n      <th>area_worst</th>\n      <th>smoothness_worst</th>\n      <th>compactness_worst</th>\n      <th>concavity_worst</th>\n      <th>concave points_worst</th>\n      <th>symmetry_worst</th>\n      <th>fractal_dimension_worst</th>\n      <th>Unnamed: 32</th>\n    </tr>\n  </thead>\n  <tbody>\n    <tr>\n      <th>0</th>\n      <td>842302</td>\n      <td>M</td>\n      <td>17.99</td>\n      <td>10.38</td>\n      <td>122.80</td>\n      <td>1001.00</td>\n      <td>0.12</td>\n      <td>0.28</td>\n      <td>0.30</td>\n      <td>0.15</td>\n      <td>0.24</td>\n      <td>0.08</td>\n      <td>1.09</td>\n      <td>0.91</td>\n      <td>8.59</td>\n      <td>153.40</td>\n      <td>0.01</td>\n      <td>0.05</td>\n      <td>0.05</td>\n      <td>0.02</td>\n      <td>0.03</td>\n      <td>0.01</td>\n      <td>25.38</td>\n      <td>17.33</td>\n      <td>184.60</td>\n      <td>2019.00</td>\n      <td>0.16</td>\n      <td>0.67</td>\n      <td>0.71</td>\n      <td>0.27</td>\n      <td>0.46</td>\n      <td>0.12</td>\n      <td>NaN</td>\n    </tr>\n    <tr>\n      <th>1</th>\n      <td>842517</td>\n      <td>M</td>\n      <td>20.57</td>\n      <td>17.77</td>\n      <td>132.90</td>\n      <td>1326.00</td>\n      <td>0.08</td>\n      <td>0.08</td>\n      <td>0.09</td>\n      <td>0.07</td>\n      <td>0.18</td>\n      <td>0.06</td>\n      <td>0.54</td>\n      <td>0.73</td>\n      <td>3.40</td>\n      <td>74.08</td>\n      <td>0.01</td>\n      <td>0.01</td>\n      <td>0.02</td>\n      <td>0.01</td>\n      <td>0.01</td>\n      <td>0.00</td>\n      <td>24.99</td>\n      <td>23.41</td>\n      <td>158.80</td>\n      <td>1956.00</td>\n      <td>0.12</td>\n      <td>0.19</td>\n      <td>0.24</td>\n      <td>0.19</td>\n      <td>0.28</td>\n      <td>0.09</td>\n      <td>NaN</td>\n    </tr>\n    <tr>\n      <th>2</th>\n      <td>84300903</td>\n      <td>M</td>\n      <td>19.69</td>\n      <td>21.25</td>\n      <td>130.00</td>\n      <td>1203.00</td>\n      <td>0.11</td>\n      <td>0.16</td>\n      <td>0.20</td>\n      <td>0.13</td>\n      <td>0.21</td>\n      <td>0.06</td>\n      <td>0.75</td>\n      <td>0.79</td>\n      <td>4.58</td>\n      <td>94.03</td>\n      <td>0.01</td>\n      <td>0.04</td>\n      <td>0.04</td>\n      <td>0.02</td>\n      <td>0.02</td>\n      <td>0.00</td>\n      <td>23.57</td>\n      <td>25.53</td>\n      <td>152.50</td>\n      <td>1709.00</td>\n      <td>0.14</td>\n      <td>0.42</td>\n      <td>0.45</td>\n      <td>0.24</td>\n      <td>0.36</td>\n      <td>0.09</td>\n      <td>NaN</td>\n    </tr>\n    <tr>\n      <th>3</th>\n      <td>84348301</td>\n      <td>M</td>\n      <td>11.42</td>\n      <td>20.38</td>\n      <td>77.58</td>\n      <td>386.10</td>\n      <td>0.14</td>\n      <td>0.28</td>\n      <td>0.24</td>\n      <td>0.11</td>\n      <td>0.26</td>\n      <td>0.10</td>\n      <td>0.50</td>\n      <td>1.16</td>\n      <td>3.44</td>\n      <td>27.23</td>\n      <td>0.01</td>\n      <td>0.07</td>\n      <td>0.06</td>\n      <td>0.02</td>\n      <td>0.06</td>\n      <td>0.01</td>\n      <td>14.91</td>\n      <td>26.50</td>\n      <td>98.87</td>\n      <td>567.70</td>\n      <td>0.21</td>\n      <td>0.87</td>\n      <td>0.69</td>\n      <td>0.26</td>\n      <td>0.66</td>\n      <td>0.17</td>\n      <td>NaN</td>\n    </tr>\n    <tr>\n      <th>4</th>\n      <td>84358402</td>\n      <td>M</td>\n      <td>20.29</td>\n      <td>14.34</td>\n      <td>135.10</td>\n      <td>1297.00</td>\n      <td>0.10</td>\n      <td>0.13</td>\n      <td>0.20</td>\n      <td>0.10</td>\n      <td>0.18</td>\n      <td>0.06</td>\n      <td>0.76</td>\n      <td>0.78</td>\n      <td>5.44</td>\n      <td>94.44</td>\n      <td>0.01</td>\n      <td>0.02</td>\n      <td>0.06</td>\n      <td>0.02</td>\n      <td>0.02</td>\n      <td>0.01</td>\n      <td>22.54</td>\n      <td>16.67</td>\n      <td>152.20</td>\n      <td>1575.00</td>\n      <td>0.14</td>\n      <td>0.20</td>\n      <td>0.40</td>\n      <td>0.16</td>\n      <td>0.24</td>\n      <td>0.08</td>\n      <td>NaN</td>\n    </tr>\n    <tr>\n      <th>5</th>\n      <td>843786</td>\n      <td>M</td>\n      <td>12.45</td>\n      <td>15.70</td>\n      <td>82.57</td>\n      <td>477.10</td>\n      <td>0.13</td>\n      <td>0.17</td>\n      <td>0.16</td>\n      <td>0.08</td>\n      <td>0.21</td>\n      <td>0.08</td>\n      <td>0.33</td>\n      <td>0.89</td>\n      <td>2.22</td>\n      <td>27.19</td>\n      <td>0.01</td>\n      <td>0.03</td>\n      <td>0.04</td>\n      <td>0.01</td>\n      <td>0.02</td>\n      <td>0.01</td>\n      <td>15.47</td>\n      <td>23.75</td>\n      <td>103.40</td>\n      <td>741.60</td>\n      <td>0.18</td>\n      <td>0.52</td>\n      <td>0.54</td>\n      <td>0.17</td>\n      <td>0.40</td>\n      <td>0.12</td>\n      <td>NaN</td>\n    </tr>\n    <tr>\n      <th>6</th>\n      <td>844359</td>\n      <td>M</td>\n      <td>18.25</td>\n      <td>19.98</td>\n      <td>119.60</td>\n      <td>1040.00</td>\n      <td>0.09</td>\n      <td>0.11</td>\n      <td>0.11</td>\n      <td>0.07</td>\n      <td>0.18</td>\n      <td>0.06</td>\n      <td>0.45</td>\n      <td>0.77</td>\n      <td>3.18</td>\n      <td>53.91</td>\n      <td>0.00</td>\n      <td>0.01</td>\n      <td>0.02</td>\n      <td>0.01</td>\n      <td>0.01</td>\n      <td>0.00</td>\n      <td>22.88</td>\n      <td>27.66</td>\n      <td>153.20</td>\n      <td>1606.00</td>\n      <td>0.14</td>\n      <td>0.26</td>\n      <td>0.38</td>\n      <td>0.19</td>\n      <td>0.31</td>\n      <td>0.08</td>\n      <td>NaN</td>\n    </tr>\n    <tr>\n      <th>7</th>\n      <td>84458202</td>\n      <td>M</td>\n      <td>13.71</td>\n      <td>20.83</td>\n      <td>90.20</td>\n      <td>577.90</td>\n      <td>0.12</td>\n      <td>0.16</td>\n      <td>0.09</td>\n      <td>0.06</td>\n      <td>0.22</td>\n      <td>0.07</td>\n      <td>0.58</td>\n      <td>1.38</td>\n      <td>3.86</td>\n      <td>50.96</td>\n      <td>0.01</td>\n      <td>0.03</td>\n      <td>0.02</td>\n      <td>0.01</td>\n      <td>0.01</td>\n      <td>0.01</td>\n      <td>17.06</td>\n      <td>28.14</td>\n      <td>110.60</td>\n      <td>897.00</td>\n      <td>0.17</td>\n      <td>0.37</td>\n      <td>0.27</td>\n      <td>0.16</td>\n      <td>0.32</td>\n      <td>0.12</td>\n      <td>NaN</td>\n    </tr>\n    <tr>\n      <th>8</th>\n      <td>844981</td>\n      <td>M</td>\n      <td>13.00</td>\n      <td>21.82</td>\n      <td>87.50</td>\n      <td>519.80</td>\n      <td>0.13</td>\n      <td>0.19</td>\n      <td>0.19</td>\n      <td>0.09</td>\n      <td>0.23</td>\n      <td>0.07</td>\n      <td>0.31</td>\n      <td>1.00</td>\n      <td>2.41</td>\n      <td>24.32</td>\n      <td>0.01</td>\n      <td>0.04</td>\n      <td>0.04</td>\n      <td>0.01</td>\n      <td>0.02</td>\n      <td>0.00</td>\n      <td>15.49</td>\n      <td>30.73</td>\n      <td>106.20</td>\n      <td>739.30</td>\n      <td>0.17</td>\n      <td>0.54</td>\n      <td>0.54</td>\n      <td>0.21</td>\n      <td>0.44</td>\n      <td>0.11</td>\n      <td>NaN</td>\n    </tr>\n    <tr>\n      <th>9</th>\n      <td>84501001</td>\n      <td>M</td>\n      <td>12.46</td>\n      <td>24.04</td>\n      <td>83.97</td>\n      <td>475.90</td>\n      <td>0.12</td>\n      <td>0.24</td>\n      <td>0.23</td>\n      <td>0.09</td>\n      <td>0.20</td>\n      <td>0.08</td>\n      <td>0.30</td>\n      <td>1.60</td>\n      <td>2.04</td>\n      <td>23.94</td>\n      <td>0.01</td>\n      <td>0.07</td>\n      <td>0.08</td>\n      <td>0.01</td>\n      <td>0.02</td>\n      <td>0.01</td>\n      <td>15.09</td>\n      <td>40.68</td>\n      <td>97.65</td>\n      <td>711.40</td>\n      <td>0.19</td>\n      <td>1.06</td>\n      <td>1.10</td>\n      <td>0.22</td>\n      <td>0.44</td>\n      <td>0.21</td>\n      <td>NaN</td>\n    </tr>\n  </tbody>\n</table>\n</div>",
      "text/plain": "         id diagnosis  radius_mean  texture_mean  perimeter_mean  area_mean  smoothness_mean  compactness_mean  concavity_mean  concave points_mean  symmetry_mean  fractal_dimension_mean  radius_se  texture_se  perimeter_se  area_se  smoothness_se  compactness_se  concavity_se  concave points_se  symmetry_se  fractal_dimension_se  radius_worst  texture_worst  perimeter_worst  area_worst  smoothness_worst  compactness_worst  concavity_worst  concave points_worst  symmetry_worst  fractal_dimension_worst  Unnamed: 32\n0    842302         M        17.99         10.38          122.80    1001.00             0.12              0.28            0.30                 0.15           0.24                    0.08       1.09        0.91          8.59   153.40           0.01            0.05          0.05               0.02         0.03                  0.01         25.38          17.33           184.60     2019.00              0.16               0.67             0.71                  0.27            0.46                     0.12          NaN\n1    842517         M        20.57         17.77          132.90    1326.00             0.08              0.08            0.09                 0.07           0.18                    0.06       0.54        0.73          3.40    74.08           0.01            0.01          0.02               0.01         0.01                  0.00         24.99          23.41           158.80     1956.00              0.12               0.19             0.24                  0.19            0.28                     0.09          NaN\n2  84300903         M        19.69         21.25          130.00    1203.00             0.11              0.16            0.20                 0.13           0.21                    0.06       0.75        0.79          4.58    94.03           0.01            0.04          0.04               0.02         0.02                  0.00         23.57          25.53           152.50     1709.00              0.14               0.42             0.45                  0.24            0.36                     0.09          NaN\n3  84348301         M        11.42         20.38           77.58     386.10             0.14              0.28            0.24                 0.11           0.26                    0.10       0.50        1.16          3.44    27.23           0.01            0.07          0.06               0.02         0.06                  0.01         14.91          26.50            98.87      567.70              0.21               0.87             0.69                  0.26            0.66                     0.17          NaN\n4  84358402         M        20.29         14.34          135.10    1297.00             0.10              0.13            0.20                 0.10           0.18                    0.06       0.76        0.78          5.44    94.44           0.01            0.02          0.06               0.02         0.02                  0.01         22.54          16.67           152.20     1575.00              0.14               0.20             0.40                  0.16            0.24                     0.08          NaN\n5    843786         M        12.45         15.70           82.57     477.10             0.13              0.17            0.16                 0.08           0.21                    0.08       0.33        0.89          2.22    27.19           0.01            0.03          0.04               0.01         0.02                  0.01         15.47          23.75           103.40      741.60              0.18               0.52             0.54                  0.17            0.40                     0.12          NaN\n6    844359         M        18.25         19.98          119.60    1040.00             0.09              0.11            0.11                 0.07           0.18                    0.06       0.45        0.77          3.18    53.91           0.00            0.01          0.02               0.01         0.01                  0.00         22.88          27.66           153.20     1606.00              0.14               0.26             0.38                  0.19            0.31                     0.08          NaN\n7  84458202         M        13.71         20.83           90.20     577.90             0.12              0.16            0.09                 0.06           0.22                    0.07       0.58        1.38          3.86    50.96           0.01            0.03          0.02               0.01         0.01                  0.01         17.06          28.14           110.60      897.00              0.17               0.37             0.27                  0.16            0.32                     0.12          NaN\n8    844981         M        13.00         21.82           87.50     519.80             0.13              0.19            0.19                 0.09           0.23                    0.07       0.31        1.00          2.41    24.32           0.01            0.04          0.04               0.01         0.02                  0.00         15.49          30.73           106.20      739.30              0.17               0.54             0.54                  0.21            0.44                     0.11          NaN\n9  84501001         M        12.46         24.04           83.97     475.90             0.12              0.24            0.23                 0.09           0.20                    0.08       0.30        1.60          2.04    23.94           0.01            0.07          0.08               0.01         0.02                  0.01         15.09          40.68            97.65      711.40              0.19               1.06             1.10                  0.22            0.44                     0.21          NaN"
     },
     "execution_count": 7,
     "metadata": {},
     "output_type": "execute_result"
    }
   ],
   "source": [
    "# reading the csv file\n",
    "df = file_handler.read_csv(\"../data/data.csv\")\n",
    "df.head(10)"
   ]
  },
  {
   "cell_type": "markdown",
   "metadata": {},
   "source": [
    "## General Statistics"
   ]
  },
  {
   "cell_type": "code",
   "execution_count": 8,
   "metadata": {},
   "outputs": [
    {
     "data": {
      "text/plain": "18777"
     },
     "execution_count": 8,
     "metadata": {},
     "output_type": "execute_result"
    }
   ],
   "source": [
    "# number of elements in the df\n",
    "df.size"
   ]
  },
  {
   "cell_type": "code",
   "execution_count": 9,
   "metadata": {},
   "outputs": [
    {
     "data": {
      "text/plain": "(569, 33)"
     },
     "execution_count": 9,
     "metadata": {},
     "output_type": "execute_result"
    }
   ],
   "source": [
    "# rows and columns in the df\n",
    "df.shape"
   ]
  },
  {
   "cell_type": "code",
   "execution_count": 10,
   "metadata": {},
   "outputs": [
    {
     "name": "stdout",
     "output_type": "stream",
     "text": [
      "<class 'pandas.core.frame.DataFrame'>\n",
      "RangeIndex: 569 entries, 0 to 568\n",
      "Data columns (total 33 columns):\n",
      " #   Column                   Non-Null Count  Dtype  \n",
      "---  ------                   --------------  -----  \n",
      " 0   id                       569 non-null    int64  \n",
      " 1   diagnosis                569 non-null    object \n",
      " 2   radius_mean              569 non-null    float64\n",
      " 3   texture_mean             569 non-null    float64\n",
      " 4   perimeter_mean           569 non-null    float64\n",
      " 5   area_mean                569 non-null    float64\n",
      " 6   smoothness_mean          569 non-null    float64\n",
      " 7   compactness_mean         569 non-null    float64\n",
      " 8   concavity_mean           569 non-null    float64\n",
      " 9   concave points_mean      569 non-null    float64\n",
      " 10  symmetry_mean            569 non-null    float64\n",
      " 11  fractal_dimension_mean   569 non-null    float64\n",
      " 12  radius_se                569 non-null    float64\n",
      " 13  texture_se               569 non-null    float64\n",
      " 14  perimeter_se             569 non-null    float64\n",
      " 15  area_se                  569 non-null    float64\n",
      " 16  smoothness_se            569 non-null    float64\n",
      " 17  compactness_se           569 non-null    float64\n",
      " 18  concavity_se             569 non-null    float64\n",
      " 19  concave points_se        569 non-null    float64\n",
      " 20  symmetry_se              569 non-null    float64\n",
      " 21  fractal_dimension_se     569 non-null    float64\n",
      " 22  radius_worst             569 non-null    float64\n",
      " 23  texture_worst            569 non-null    float64\n",
      " 24  perimeter_worst          569 non-null    float64\n",
      " 25  area_worst               569 non-null    float64\n",
      " 26  smoothness_worst         569 non-null    float64\n",
      " 27  compactness_worst        569 non-null    float64\n",
      " 28  concavity_worst          569 non-null    float64\n",
      " 29  concave points_worst     569 non-null    float64\n",
      " 30  symmetry_worst           569 non-null    float64\n",
      " 31  fractal_dimension_worst  569 non-null    float64\n",
      " 32  Unnamed: 32              0 non-null      float64\n",
      "dtypes: float64(31), int64(1), object(1)\n",
      "memory usage: 146.8+ KB\n"
     ]
    }
   ],
   "source": [
    "df.info()"
   ]
  },
  {
   "cell_type": "code",
   "execution_count": 11,
   "metadata": {},
   "outputs": [
    {
     "data": {
      "text/html": "<div>\n<style scoped>\n    .dataframe tbody tr th:only-of-type {\n        vertical-align: middle;\n    }\n\n    .dataframe tbody tr th {\n        vertical-align: top;\n    }\n\n    .dataframe thead th {\n        text-align: right;\n    }\n</style>\n<table border=\"1\" class=\"dataframe\">\n  <thead>\n    <tr style=\"text-align: right;\">\n      <th></th>\n      <th>count</th>\n      <th>none_count</th>\n      <th>none_percentage</th>\n      <th>unique_value_count</th>\n      <th>unique_percentage</th>\n      <th>dtype</th>\n    </tr>\n    <tr>\n      <th>label</th>\n      <th></th>\n      <th></th>\n      <th></th>\n      <th></th>\n      <th></th>\n      <th></th>\n    </tr>\n  </thead>\n  <tbody>\n    <tr>\n      <th>id</th>\n      <td>569</td>\n      <td>0</td>\n      <td>0.0%</td>\n      <td>569</td>\n      <td>100.0%</td>\n      <td>int64</td>\n    </tr>\n    <tr>\n      <th>symmetry_worst</th>\n      <td>569</td>\n      <td>0</td>\n      <td>0.0%</td>\n      <td>500</td>\n      <td>87.87%</td>\n      <td>float64</td>\n    </tr>\n    <tr>\n      <th>concave points_worst</th>\n      <td>569</td>\n      <td>0</td>\n      <td>0.0%</td>\n      <td>492</td>\n      <td>86.47%</td>\n      <td>float64</td>\n    </tr>\n    <tr>\n      <th>concavity_worst</th>\n      <td>569</td>\n      <td>0</td>\n      <td>0.0%</td>\n      <td>539</td>\n      <td>94.73%</td>\n      <td>float64</td>\n    </tr>\n    <tr>\n      <th>compactness_worst</th>\n      <td>569</td>\n      <td>0</td>\n      <td>0.0%</td>\n      <td>529</td>\n      <td>92.97%</td>\n      <td>float64</td>\n    </tr>\n    <tr>\n      <th>smoothness_worst</th>\n      <td>569</td>\n      <td>0</td>\n      <td>0.0%</td>\n      <td>411</td>\n      <td>72.23%</td>\n      <td>float64</td>\n    </tr>\n    <tr>\n      <th>area_worst</th>\n      <td>569</td>\n      <td>0</td>\n      <td>0.0%</td>\n      <td>544</td>\n      <td>95.61%</td>\n      <td>float64</td>\n    </tr>\n    <tr>\n      <th>perimeter_worst</th>\n      <td>569</td>\n      <td>0</td>\n      <td>0.0%</td>\n      <td>514</td>\n      <td>90.33%</td>\n      <td>float64</td>\n    </tr>\n    <tr>\n      <th>texture_worst</th>\n      <td>569</td>\n      <td>0</td>\n      <td>0.0%</td>\n      <td>511</td>\n      <td>89.81%</td>\n      <td>float64</td>\n    </tr>\n    <tr>\n      <th>radius_worst</th>\n      <td>569</td>\n      <td>0</td>\n      <td>0.0%</td>\n      <td>457</td>\n      <td>80.32%</td>\n      <td>float64</td>\n    </tr>\n    <tr>\n      <th>fractal_dimension_se</th>\n      <td>569</td>\n      <td>0</td>\n      <td>0.0%</td>\n      <td>545</td>\n      <td>95.78%</td>\n      <td>float64</td>\n    </tr>\n    <tr>\n      <th>symmetry_se</th>\n      <td>569</td>\n      <td>0</td>\n      <td>0.0%</td>\n      <td>498</td>\n      <td>87.52%</td>\n      <td>float64</td>\n    </tr>\n    <tr>\n      <th>concave points_se</th>\n      <td>569</td>\n      <td>0</td>\n      <td>0.0%</td>\n      <td>507</td>\n      <td>89.1%</td>\n      <td>float64</td>\n    </tr>\n    <tr>\n      <th>concavity_se</th>\n      <td>569</td>\n      <td>0</td>\n      <td>0.0%</td>\n      <td>533</td>\n      <td>93.67%</td>\n      <td>float64</td>\n    </tr>\n    <tr>\n      <th>compactness_se</th>\n      <td>569</td>\n      <td>0</td>\n      <td>0.0%</td>\n      <td>541</td>\n      <td>95.08%</td>\n      <td>float64</td>\n    </tr>\n    <tr>\n      <th>fractal_dimension_worst</th>\n      <td>569</td>\n      <td>0</td>\n      <td>0.0%</td>\n      <td>535</td>\n      <td>94.02%</td>\n      <td>float64</td>\n    </tr>\n    <tr>\n      <th>smoothness_se</th>\n      <td>569</td>\n      <td>0</td>\n      <td>0.0%</td>\n      <td>547</td>\n      <td>96.13%</td>\n      <td>float64</td>\n    </tr>\n    <tr>\n      <th>perimeter_se</th>\n      <td>569</td>\n      <td>0</td>\n      <td>0.0%</td>\n      <td>533</td>\n      <td>93.67%</td>\n      <td>float64</td>\n    </tr>\n    <tr>\n      <th>texture_se</th>\n      <td>569</td>\n      <td>0</td>\n      <td>0.0%</td>\n      <td>519</td>\n      <td>91.21%</td>\n      <td>float64</td>\n    </tr>\n    <tr>\n      <th>radius_se</th>\n      <td>569</td>\n      <td>0</td>\n      <td>0.0%</td>\n      <td>540</td>\n      <td>94.9%</td>\n      <td>float64</td>\n    </tr>\n    <tr>\n      <th>fractal_dimension_mean</th>\n      <td>569</td>\n      <td>0</td>\n      <td>0.0%</td>\n      <td>499</td>\n      <td>87.7%</td>\n      <td>float64</td>\n    </tr>\n    <tr>\n      <th>symmetry_mean</th>\n      <td>569</td>\n      <td>0</td>\n      <td>0.0%</td>\n      <td>432</td>\n      <td>75.92%</td>\n      <td>float64</td>\n    </tr>\n    <tr>\n      <th>concave points_mean</th>\n      <td>569</td>\n      <td>0</td>\n      <td>0.0%</td>\n      <td>542</td>\n      <td>95.25%</td>\n      <td>float64</td>\n    </tr>\n    <tr>\n      <th>concavity_mean</th>\n      <td>569</td>\n      <td>0</td>\n      <td>0.0%</td>\n      <td>537</td>\n      <td>94.38%</td>\n      <td>float64</td>\n    </tr>\n    <tr>\n      <th>compactness_mean</th>\n      <td>569</td>\n      <td>0</td>\n      <td>0.0%</td>\n      <td>537</td>\n      <td>94.38%</td>\n      <td>float64</td>\n    </tr>\n    <tr>\n      <th>smoothness_mean</th>\n      <td>569</td>\n      <td>0</td>\n      <td>0.0%</td>\n      <td>474</td>\n      <td>83.3%</td>\n      <td>float64</td>\n    </tr>\n    <tr>\n      <th>area_mean</th>\n      <td>569</td>\n      <td>0</td>\n      <td>0.0%</td>\n      <td>539</td>\n      <td>94.73%</td>\n      <td>float64</td>\n    </tr>\n    <tr>\n      <th>perimeter_mean</th>\n      <td>569</td>\n      <td>0</td>\n      <td>0.0%</td>\n      <td>522</td>\n      <td>91.74%</td>\n      <td>float64</td>\n    </tr>\n    <tr>\n      <th>texture_mean</th>\n      <td>569</td>\n      <td>0</td>\n      <td>0.0%</td>\n      <td>479</td>\n      <td>84.18%</td>\n      <td>float64</td>\n    </tr>\n    <tr>\n      <th>radius_mean</th>\n      <td>569</td>\n      <td>0</td>\n      <td>0.0%</td>\n      <td>456</td>\n      <td>80.14%</td>\n      <td>float64</td>\n    </tr>\n    <tr>\n      <th>diagnosis</th>\n      <td>569</td>\n      <td>0</td>\n      <td>0.0%</td>\n      <td>2</td>\n      <td>0.35%</td>\n      <td>object</td>\n    </tr>\n    <tr>\n      <th>area_se</th>\n      <td>569</td>\n      <td>0</td>\n      <td>0.0%</td>\n      <td>528</td>\n      <td>92.79%</td>\n      <td>float64</td>\n    </tr>\n    <tr>\n      <th>Unnamed: 32</th>\n      <td>0</td>\n      <td>569</td>\n      <td>100.0%</td>\n      <td>0</td>\n      <td>0.0%</td>\n      <td>float64</td>\n    </tr>\n  </tbody>\n</table>\n</div>",
      "text/plain": "                         count  none_count none_percentage  unique_value_count unique_percentage    dtype\nlabel                                                                                                    \nid                         569           0            0.0%                 569            100.0%    int64\nsymmetry_worst             569           0            0.0%                 500            87.87%  float64\nconcave points_worst       569           0            0.0%                 492            86.47%  float64\nconcavity_worst            569           0            0.0%                 539            94.73%  float64\ncompactness_worst          569           0            0.0%                 529            92.97%  float64\nsmoothness_worst           569           0            0.0%                 411            72.23%  float64\narea_worst                 569           0            0.0%                 544            95.61%  float64\nperimeter_worst            569           0            0.0%                 514            90.33%  float64\ntexture_worst              569           0            0.0%                 511            89.81%  float64\nradius_worst               569           0            0.0%                 457            80.32%  float64\nfractal_dimension_se       569           0            0.0%                 545            95.78%  float64\nsymmetry_se                569           0            0.0%                 498            87.52%  float64\nconcave points_se          569           0            0.0%                 507             89.1%  float64\nconcavity_se               569           0            0.0%                 533            93.67%  float64\ncompactness_se             569           0            0.0%                 541            95.08%  float64\nfractal_dimension_worst    569           0            0.0%                 535            94.02%  float64\nsmoothness_se              569           0            0.0%                 547            96.13%  float64\nperimeter_se               569           0            0.0%                 533            93.67%  float64\ntexture_se                 569           0            0.0%                 519            91.21%  float64\nradius_se                  569           0            0.0%                 540             94.9%  float64\nfractal_dimension_mean     569           0            0.0%                 499             87.7%  float64\nsymmetry_mean              569           0            0.0%                 432            75.92%  float64\nconcave points_mean        569           0            0.0%                 542            95.25%  float64\nconcavity_mean             569           0            0.0%                 537            94.38%  float64\ncompactness_mean           569           0            0.0%                 537            94.38%  float64\nsmoothness_mean            569           0            0.0%                 474             83.3%  float64\narea_mean                  569           0            0.0%                 539            94.73%  float64\nperimeter_mean             569           0            0.0%                 522            91.74%  float64\ntexture_mean               569           0            0.0%                 479            84.18%  float64\nradius_mean                569           0            0.0%                 456            80.14%  float64\ndiagnosis                  569           0            0.0%                   2             0.35%   object\narea_se                    569           0            0.0%                 528            92.79%  float64\nUnnamed: 32                  0         569          100.0%                   0              0.0%  float64"
     },
     "execution_count": 11,
     "metadata": {},
     "output_type": "execute_result"
    }
   ],
   "source": [
    "df_overview = DfOverview(df)\n",
    "df_overview.getOverview()"
   ]
  },
  {
   "cell_type": "markdown",
   "metadata": {},
   "source": [
    "## Missing Values"
   ]
  },
  {
   "cell_type": "code",
   "execution_count": 12,
   "metadata": {},
   "outputs": [
    {
     "name": "stdout",
     "output_type": "stream",
     "text": [
      "The dataset contains 3.03 % missing values.\n"
     ]
    }
   ],
   "source": [
    "percent_missing_values(df)"
   ]
  },
  {
   "cell_type": "code",
   "execution_count": 13,
   "metadata": {},
   "outputs": [
    {
     "name": "stdout",
     "output_type": "stream",
     "text": [
      "Your selected dataframe has 33 columns.\n",
      "There are 1 columns that have missing values.\n"
     ]
    }
   ],
   "source": [
    "missing_df = missing_values_table(df)"
   ]
  },
  {
   "cell_type": "code",
   "execution_count": 14,
   "metadata": {},
   "outputs": [
    {
     "data": {
      "text/html": "<div>\n<style scoped>\n    .dataframe tbody tr th:only-of-type {\n        vertical-align: middle;\n    }\n\n    .dataframe tbody tr th {\n        vertical-align: top;\n    }\n\n    .dataframe thead th {\n        text-align: right;\n    }\n</style>\n<table border=\"1\" class=\"dataframe\">\n  <thead>\n    <tr style=\"text-align: right;\">\n      <th></th>\n      <th>Missing Values</th>\n      <th>% of Total Values</th>\n      <th>Dtype</th>\n    </tr>\n  </thead>\n  <tbody>\n    <tr>\n      <th>Unnamed: 32</th>\n      <td>569</td>\n      <td>100.00</td>\n      <td>float64</td>\n    </tr>\n  </tbody>\n</table>\n</div>",
      "text/plain": "             Missing Values  % of Total Values    Dtype\nUnnamed: 32             569             100.00  float64"
     },
     "execution_count": 14,
     "metadata": {},
     "output_type": "execute_result"
    }
   ],
   "source": [
    "missing_df"
   ]
  },
  {
   "cell_type": "markdown",
   "metadata": {},
   "source": [
    "We can see here that we don't have any missing values, except for the column \"Unnamed: 32\", which has no value at all."
   ]
  },
  {
   "cell_type": "code",
   "execution_count": 15,
   "metadata": {},
   "outputs": [
    {
     "name": "stdout",
     "output_type": "stream",
     "text": [
      "1 column was dropped.\n"
     ]
    }
   ],
   "source": [
    "drop_columns(df, ['Unnamed: 32'])"
   ]
  },
  {
   "cell_type": "markdown",
   "metadata": {},
   "source": [
    "## Outliers"
   ]
  },
  {
   "cell_type": "code",
   "execution_count": 16,
   "metadata": {},
   "outputs": [],
   "source": [
    "outlier_handler = DfOutlier(df)"
   ]
  },
  {
   "cell_type": "code",
   "execution_count": 17,
   "metadata": {},
   "outputs": [
    {
     "data": {
      "text/plain": "['radius_mean',\n 'texture_mean',\n 'perimeter_mean',\n 'area_mean',\n 'smoothness_mean',\n 'compactness_mean',\n 'concavity_mean',\n 'concave points_mean',\n 'symmetry_mean',\n 'fractal_dimension_mean',\n 'radius_se',\n 'texture_se',\n 'perimeter_se',\n 'area_se',\n 'smoothness_se',\n 'compactness_se',\n 'concavity_se',\n 'concave points_se',\n 'symmetry_se',\n 'fractal_dimension_se',\n 'radius_worst',\n 'texture_worst',\n 'perimeter_worst',\n 'area_worst',\n 'smoothness_worst',\n 'compactness_worst',\n 'concavity_worst',\n 'concave points_worst',\n 'symmetry_worst',\n 'fractal_dimension_worst']"
     },
     "execution_count": 17,
     "metadata": {},
     "output_type": "execute_result"
    }
   ],
   "source": [
    "columns = df.select_dtypes('float64').columns.tolist()\n",
    "columns"
   ]
  },
  {
   "cell_type": "code",
   "execution_count": 18,
   "metadata": {},
   "outputs": [
    {
     "data": {
      "text/html": "<div>\n<style scoped>\n    .dataframe tbody tr th:only-of-type {\n        vertical-align: middle;\n    }\n\n    .dataframe tbody tr th {\n        vertical-align: top;\n    }\n\n    .dataframe thead th {\n        text-align: right;\n    }\n</style>\n<table border=\"1\" class=\"dataframe\">\n  <thead>\n    <tr style=\"text-align: right;\">\n      <th></th>\n      <th>Min</th>\n      <th>Q1</th>\n      <th>Median</th>\n      <th>Q3</th>\n      <th>Max</th>\n      <th>IQR</th>\n      <th>Lower fence</th>\n      <th>Upper fence</th>\n      <th>Skew</th>\n      <th>Number_of_outliers</th>\n      <th>Percentage_of_outliers</th>\n    </tr>\n    <tr>\n      <th>Name of columns</th>\n      <th></th>\n      <th></th>\n      <th></th>\n      <th></th>\n      <th></th>\n      <th></th>\n      <th></th>\n      <th></th>\n      <th></th>\n      <th></th>\n      <th></th>\n    </tr>\n  </thead>\n  <tbody>\n    <tr>\n      <th>area_se</th>\n      <td>6.80</td>\n      <td>17.85</td>\n      <td>24.53</td>\n      <td>45.19</td>\n      <td>542.20</td>\n      <td>27.34</td>\n      <td>-23.16</td>\n      <td>86.20</td>\n      <td>5.45</td>\n      <td>65</td>\n      <td>0.04%</td>\n    </tr>\n    <tr>\n      <th>radius_se</th>\n      <td>0.11</td>\n      <td>0.23</td>\n      <td>0.32</td>\n      <td>0.48</td>\n      <td>2.87</td>\n      <td>0.25</td>\n      <td>-0.14</td>\n      <td>0.85</td>\n      <td>3.09</td>\n      <td>38</td>\n      <td>0.03%</td>\n    </tr>\n    <tr>\n      <th>perimeter_se</th>\n      <td>0.76</td>\n      <td>1.61</td>\n      <td>2.29</td>\n      <td>3.36</td>\n      <td>21.98</td>\n      <td>1.75</td>\n      <td>-1.02</td>\n      <td>5.98</td>\n      <td>3.44</td>\n      <td>38</td>\n      <td>0.03%</td>\n    </tr>\n    <tr>\n      <th>area_worst</th>\n      <td>185.20</td>\n      <td>515.30</td>\n      <td>686.50</td>\n      <td>1084.00</td>\n      <td>4254.00</td>\n      <td>568.70</td>\n      <td>-337.75</td>\n      <td>1937.05</td>\n      <td>1.86</td>\n      <td>35</td>\n      <td>0.02%</td>\n    </tr>\n    <tr>\n      <th>smoothness_se</th>\n      <td>0.00</td>\n      <td>0.01</td>\n      <td>0.01</td>\n      <td>0.01</td>\n      <td>0.03</td>\n      <td>0.00</td>\n      <td>0.00</td>\n      <td>0.01</td>\n      <td>2.31</td>\n      <td>30</td>\n      <td>0.02%</td>\n    </tr>\n    <tr>\n      <th>compactness_se</th>\n      <td>0.00</td>\n      <td>0.01</td>\n      <td>0.02</td>\n      <td>0.03</td>\n      <td>0.14</td>\n      <td>0.02</td>\n      <td>-0.02</td>\n      <td>0.06</td>\n      <td>1.90</td>\n      <td>28</td>\n      <td>0.02%</td>\n    </tr>\n    <tr>\n      <th>fractal_dimension_se</th>\n      <td>0.00</td>\n      <td>0.00</td>\n      <td>0.00</td>\n      <td>0.00</td>\n      <td>0.03</td>\n      <td>0.00</td>\n      <td>-0.00</td>\n      <td>0.01</td>\n      <td>3.92</td>\n      <td>28</td>\n      <td>0.02%</td>\n    </tr>\n    <tr>\n      <th>symmetry_se</th>\n      <td>0.01</td>\n      <td>0.02</td>\n      <td>0.02</td>\n      <td>0.02</td>\n      <td>0.08</td>\n      <td>0.01</td>\n      <td>0.00</td>\n      <td>0.04</td>\n      <td>2.20</td>\n      <td>27</td>\n      <td>0.02%</td>\n    </tr>\n    <tr>\n      <th>area_mean</th>\n      <td>143.50</td>\n      <td>420.30</td>\n      <td>551.10</td>\n      <td>782.70</td>\n      <td>2501.00</td>\n      <td>362.40</td>\n      <td>-123.30</td>\n      <td>1326.30</td>\n      <td>1.65</td>\n      <td>25</td>\n      <td>0.02%</td>\n    </tr>\n    <tr>\n      <th>fractal_dimension_worst</th>\n      <td>0.06</td>\n      <td>0.07</td>\n      <td>0.08</td>\n      <td>0.09</td>\n      <td>0.21</td>\n      <td>0.02</td>\n      <td>0.04</td>\n      <td>0.12</td>\n      <td>1.66</td>\n      <td>24</td>\n      <td>0.02%</td>\n    </tr>\n    <tr>\n      <th>symmetry_worst</th>\n      <td>0.16</td>\n      <td>0.25</td>\n      <td>0.28</td>\n      <td>0.32</td>\n      <td>0.66</td>\n      <td>0.07</td>\n      <td>0.15</td>\n      <td>0.42</td>\n      <td>1.43</td>\n      <td>23</td>\n      <td>0.02%</td>\n    </tr>\n    <tr>\n      <th>concavity_se</th>\n      <td>0.00</td>\n      <td>0.02</td>\n      <td>0.03</td>\n      <td>0.04</td>\n      <td>0.40</td>\n      <td>0.03</td>\n      <td>-0.03</td>\n      <td>0.08</td>\n      <td>5.11</td>\n      <td>22</td>\n      <td>0.01%</td>\n    </tr>\n    <tr>\n      <th>texture_se</th>\n      <td>0.36</td>\n      <td>0.83</td>\n      <td>1.11</td>\n      <td>1.47</td>\n      <td>4.88</td>\n      <td>0.64</td>\n      <td>-0.13</td>\n      <td>2.43</td>\n      <td>1.65</td>\n      <td>20</td>\n      <td>0.01%</td>\n    </tr>\n    <tr>\n      <th>concave points_se</th>\n      <td>0.00</td>\n      <td>0.01</td>\n      <td>0.01</td>\n      <td>0.01</td>\n      <td>0.05</td>\n      <td>0.01</td>\n      <td>-0.00</td>\n      <td>0.03</td>\n      <td>1.44</td>\n      <td>19</td>\n      <td>0.01%</td>\n    </tr>\n    <tr>\n      <th>concavity_mean</th>\n      <td>0.00</td>\n      <td>0.03</td>\n      <td>0.06</td>\n      <td>0.13</td>\n      <td>0.43</td>\n      <td>0.10</td>\n      <td>-0.12</td>\n      <td>0.28</td>\n      <td>1.40</td>\n      <td>18</td>\n      <td>0.01%</td>\n    </tr>\n    <tr>\n      <th>radius_worst</th>\n      <td>7.93</td>\n      <td>13.01</td>\n      <td>14.97</td>\n      <td>18.79</td>\n      <td>36.04</td>\n      <td>5.78</td>\n      <td>4.34</td>\n      <td>27.46</td>\n      <td>1.10</td>\n      <td>17</td>\n      <td>0.01%</td>\n    </tr>\n    <tr>\n      <th>compactness_worst</th>\n      <td>0.03</td>\n      <td>0.15</td>\n      <td>0.21</td>\n      <td>0.34</td>\n      <td>1.06</td>\n      <td>0.19</td>\n      <td>-0.14</td>\n      <td>0.63</td>\n      <td>1.47</td>\n      <td>16</td>\n      <td>0.01%</td>\n    </tr>\n    <tr>\n      <th>compactness_mean</th>\n      <td>0.02</td>\n      <td>0.06</td>\n      <td>0.09</td>\n      <td>0.13</td>\n      <td>0.35</td>\n      <td>0.07</td>\n      <td>-0.03</td>\n      <td>0.23</td>\n      <td>1.19</td>\n      <td>16</td>\n      <td>0.01%</td>\n    </tr>\n    <tr>\n      <th>perimeter_worst</th>\n      <td>50.41</td>\n      <td>84.11</td>\n      <td>97.66</td>\n      <td>125.40</td>\n      <td>251.20</td>\n      <td>41.29</td>\n      <td>22.17</td>\n      <td>187.34</td>\n      <td>1.13</td>\n      <td>15</td>\n      <td>0.01%</td>\n    </tr>\n    <tr>\n      <th>fractal_dimension_mean</th>\n      <td>0.05</td>\n      <td>0.06</td>\n      <td>0.06</td>\n      <td>0.07</td>\n      <td>0.10</td>\n      <td>0.01</td>\n      <td>0.05</td>\n      <td>0.08</td>\n      <td>1.30</td>\n      <td>15</td>\n      <td>0.01%</td>\n    </tr>\n    <tr>\n      <th>symmetry_mean</th>\n      <td>0.11</td>\n      <td>0.16</td>\n      <td>0.18</td>\n      <td>0.20</td>\n      <td>0.30</td>\n      <td>0.03</td>\n      <td>0.11</td>\n      <td>0.25</td>\n      <td>0.73</td>\n      <td>15</td>\n      <td>0.01%</td>\n    </tr>\n    <tr>\n      <th>radius_mean</th>\n      <td>6.98</td>\n      <td>11.70</td>\n      <td>13.37</td>\n      <td>15.78</td>\n      <td>28.11</td>\n      <td>4.08</td>\n      <td>5.58</td>\n      <td>21.90</td>\n      <td>0.94</td>\n      <td>14</td>\n      <td>0.01%</td>\n    </tr>\n    <tr>\n      <th>perimeter_mean</th>\n      <td>43.79</td>\n      <td>75.17</td>\n      <td>86.24</td>\n      <td>104.10</td>\n      <td>188.50</td>\n      <td>28.93</td>\n      <td>31.78</td>\n      <td>147.49</td>\n      <td>0.99</td>\n      <td>13</td>\n      <td>0.01%</td>\n    </tr>\n    <tr>\n      <th>concavity_worst</th>\n      <td>0.00</td>\n      <td>0.11</td>\n      <td>0.23</td>\n      <td>0.38</td>\n      <td>1.25</td>\n      <td>0.27</td>\n      <td>-0.29</td>\n      <td>0.79</td>\n      <td>1.15</td>\n      <td>12</td>\n      <td>0.01%</td>\n    </tr>\n    <tr>\n      <th>concave points_mean</th>\n      <td>0.00</td>\n      <td>0.02</td>\n      <td>0.03</td>\n      <td>0.07</td>\n      <td>0.20</td>\n      <td>0.05</td>\n      <td>-0.06</td>\n      <td>0.15</td>\n      <td>1.17</td>\n      <td>10</td>\n      <td>0.01%</td>\n    </tr>\n    <tr>\n      <th>texture_mean</th>\n      <td>9.71</td>\n      <td>16.17</td>\n      <td>18.84</td>\n      <td>21.80</td>\n      <td>39.28</td>\n      <td>5.63</td>\n      <td>7.73</td>\n      <td>30.24</td>\n      <td>0.65</td>\n      <td>7</td>\n      <td>0.0%</td>\n    </tr>\n    <tr>\n      <th>smoothness_worst</th>\n      <td>0.07</td>\n      <td>0.12</td>\n      <td>0.13</td>\n      <td>0.15</td>\n      <td>0.22</td>\n      <td>0.03</td>\n      <td>0.07</td>\n      <td>0.19</td>\n      <td>0.42</td>\n      <td>7</td>\n      <td>0.0%</td>\n    </tr>\n    <tr>\n      <th>smoothness_mean</th>\n      <td>0.05</td>\n      <td>0.09</td>\n      <td>0.10</td>\n      <td>0.11</td>\n      <td>0.16</td>\n      <td>0.02</td>\n      <td>0.06</td>\n      <td>0.13</td>\n      <td>0.46</td>\n      <td>6</td>\n      <td>0.0%</td>\n    </tr>\n    <tr>\n      <th>texture_worst</th>\n      <td>12.02</td>\n      <td>21.08</td>\n      <td>25.41</td>\n      <td>29.72</td>\n      <td>49.54</td>\n      <td>8.64</td>\n      <td>8.12</td>\n      <td>42.68</td>\n      <td>0.50</td>\n      <td>5</td>\n      <td>0.0%</td>\n    </tr>\n    <tr>\n      <th>concave points_worst</th>\n      <td>0.00</td>\n      <td>0.06</td>\n      <td>0.10</td>\n      <td>0.16</td>\n      <td>0.29</td>\n      <td>0.10</td>\n      <td>-0.08</td>\n      <td>0.31</td>\n      <td>0.49</td>\n      <td>0</td>\n      <td>0.0%</td>\n    </tr>\n  </tbody>\n</table>\n</div>",
      "text/plain": "                           Min     Q1  Median      Q3     Max    IQR  Lower fence  Upper fence  Skew  Number_of_outliers Percentage_of_outliers\nName of columns                                                                                                                                \narea_se                   6.80  17.85   24.53   45.19  542.20  27.34       -23.16        86.20  5.45                  65                  0.04%\nradius_se                 0.11   0.23    0.32    0.48    2.87   0.25        -0.14         0.85  3.09                  38                  0.03%\nperimeter_se              0.76   1.61    2.29    3.36   21.98   1.75        -1.02         5.98  3.44                  38                  0.03%\narea_worst              185.20 515.30  686.50 1084.00 4254.00 568.70      -337.75      1937.05  1.86                  35                  0.02%\nsmoothness_se             0.00   0.01    0.01    0.01    0.03   0.00         0.00         0.01  2.31                  30                  0.02%\ncompactness_se            0.00   0.01    0.02    0.03    0.14   0.02        -0.02         0.06  1.90                  28                  0.02%\nfractal_dimension_se      0.00   0.00    0.00    0.00    0.03   0.00        -0.00         0.01  3.92                  28                  0.02%\nsymmetry_se               0.01   0.02    0.02    0.02    0.08   0.01         0.00         0.04  2.20                  27                  0.02%\narea_mean               143.50 420.30  551.10  782.70 2501.00 362.40      -123.30      1326.30  1.65                  25                  0.02%\nfractal_dimension_worst   0.06   0.07    0.08    0.09    0.21   0.02         0.04         0.12  1.66                  24                  0.02%\nsymmetry_worst            0.16   0.25    0.28    0.32    0.66   0.07         0.15         0.42  1.43                  23                  0.02%\nconcavity_se              0.00   0.02    0.03    0.04    0.40   0.03        -0.03         0.08  5.11                  22                  0.01%\ntexture_se                0.36   0.83    1.11    1.47    4.88   0.64        -0.13         2.43  1.65                  20                  0.01%\nconcave points_se         0.00   0.01    0.01    0.01    0.05   0.01        -0.00         0.03  1.44                  19                  0.01%\nconcavity_mean            0.00   0.03    0.06    0.13    0.43   0.10        -0.12         0.28  1.40                  18                  0.01%\nradius_worst              7.93  13.01   14.97   18.79   36.04   5.78         4.34        27.46  1.10                  17                  0.01%\ncompactness_worst         0.03   0.15    0.21    0.34    1.06   0.19        -0.14         0.63  1.47                  16                  0.01%\ncompactness_mean          0.02   0.06    0.09    0.13    0.35   0.07        -0.03         0.23  1.19                  16                  0.01%\nperimeter_worst          50.41  84.11   97.66  125.40  251.20  41.29        22.17       187.34  1.13                  15                  0.01%\nfractal_dimension_mean    0.05   0.06    0.06    0.07    0.10   0.01         0.05         0.08  1.30                  15                  0.01%\nsymmetry_mean             0.11   0.16    0.18    0.20    0.30   0.03         0.11         0.25  0.73                  15                  0.01%\nradius_mean               6.98  11.70   13.37   15.78   28.11   4.08         5.58        21.90  0.94                  14                  0.01%\nperimeter_mean           43.79  75.17   86.24  104.10  188.50  28.93        31.78       147.49  0.99                  13                  0.01%\nconcavity_worst           0.00   0.11    0.23    0.38    1.25   0.27        -0.29         0.79  1.15                  12                  0.01%\nconcave points_mean       0.00   0.02    0.03    0.07    0.20   0.05        -0.06         0.15  1.17                  10                  0.01%\ntexture_mean              9.71  16.17   18.84   21.80   39.28   5.63         7.73        30.24  0.65                   7                   0.0%\nsmoothness_worst          0.07   0.12    0.13    0.15    0.22   0.03         0.07         0.19  0.42                   7                   0.0%\nsmoothness_mean           0.05   0.09    0.10    0.11    0.16   0.02         0.06         0.13  0.46                   6                   0.0%\ntexture_worst            12.02  21.08   25.41   29.72   49.54   8.64         8.12        42.68  0.50                   5                   0.0%\nconcave points_worst      0.00   0.06    0.10    0.16    0.29   0.10        -0.08         0.31  0.49                   0                   0.0%"
     },
     "execution_count": 18,
     "metadata": {},
     "output_type": "execute_result"
    }
   ],
   "source": [
    "outlier_handler.getOverview(columns)"
   ]
  },
  {
   "cell_type": "code",
   "execution_count": 19,
   "metadata": {},
   "outputs": [],
   "source": [
    "outlier_handler.replace_outliers_with_fences(columns)"
   ]
  },
  {
   "cell_type": "code",
   "execution_count": 20,
   "metadata": {},
   "outputs": [
    {
     "data": {
      "text/html": "<div>\n<style scoped>\n    .dataframe tbody tr th:only-of-type {\n        vertical-align: middle;\n    }\n\n    .dataframe tbody tr th {\n        vertical-align: top;\n    }\n\n    .dataframe thead th {\n        text-align: right;\n    }\n</style>\n<table border=\"1\" class=\"dataframe\">\n  <thead>\n    <tr style=\"text-align: right;\">\n      <th></th>\n      <th>Min</th>\n      <th>Q1</th>\n      <th>Median</th>\n      <th>Q3</th>\n      <th>Max</th>\n      <th>IQR</th>\n      <th>Lower fence</th>\n      <th>Upper fence</th>\n      <th>Skew</th>\n      <th>Number_of_outliers</th>\n      <th>Percentage_of_outliers</th>\n    </tr>\n    <tr>\n      <th>Name of columns</th>\n      <th></th>\n      <th></th>\n      <th></th>\n      <th></th>\n      <th></th>\n      <th></th>\n      <th></th>\n      <th></th>\n      <th></th>\n      <th></th>\n      <th></th>\n    </tr>\n  </thead>\n  <tbody>\n    <tr>\n      <th>radius_mean</th>\n      <td>6.98</td>\n      <td>11.70</td>\n      <td>13.37</td>\n      <td>15.78</td>\n      <td>21.90</td>\n      <td>4.08</td>\n      <td>5.58</td>\n      <td>21.90</td>\n      <td>0.66</td>\n      <td>0</td>\n      <td>0.0%</td>\n    </tr>\n    <tr>\n      <th>texture_mean</th>\n      <td>9.71</td>\n      <td>16.17</td>\n      <td>18.84</td>\n      <td>21.80</td>\n      <td>30.24</td>\n      <td>5.63</td>\n      <td>7.73</td>\n      <td>30.24</td>\n      <td>0.45</td>\n      <td>0</td>\n      <td>0.0%</td>\n    </tr>\n    <tr>\n      <th>symmetry_worst</th>\n      <td>0.16</td>\n      <td>0.25</td>\n      <td>0.28</td>\n      <td>0.32</td>\n      <td>0.42</td>\n      <td>0.07</td>\n      <td>0.15</td>\n      <td>0.42</td>\n      <td>0.52</td>\n      <td>0</td>\n      <td>0.0%</td>\n    </tr>\n    <tr>\n      <th>concave points_worst</th>\n      <td>0.00</td>\n      <td>0.06</td>\n      <td>0.10</td>\n      <td>0.16</td>\n      <td>0.29</td>\n      <td>0.10</td>\n      <td>-0.08</td>\n      <td>0.31</td>\n      <td>0.49</td>\n      <td>0</td>\n      <td>0.0%</td>\n    </tr>\n    <tr>\n      <th>concavity_worst</th>\n      <td>0.00</td>\n      <td>0.11</td>\n      <td>0.23</td>\n      <td>0.38</td>\n      <td>0.79</td>\n      <td>0.27</td>\n      <td>-0.29</td>\n      <td>0.79</td>\n      <td>0.81</td>\n      <td>0</td>\n      <td>0.0%</td>\n    </tr>\n    <tr>\n      <th>compactness_worst</th>\n      <td>0.03</td>\n      <td>0.15</td>\n      <td>0.21</td>\n      <td>0.34</td>\n      <td>0.63</td>\n      <td>0.19</td>\n      <td>-0.14</td>\n      <td>0.63</td>\n      <td>0.92</td>\n      <td>0</td>\n      <td>0.0%</td>\n    </tr>\n    <tr>\n      <th>smoothness_worst</th>\n      <td>0.07</td>\n      <td>0.12</td>\n      <td>0.13</td>\n      <td>0.15</td>\n      <td>0.19</td>\n      <td>0.03</td>\n      <td>0.07</td>\n      <td>0.19</td>\n      <td>0.25</td>\n      <td>0</td>\n      <td>0.0%</td>\n    </tr>\n    <tr>\n      <th>area_worst</th>\n      <td>185.20</td>\n      <td>515.30</td>\n      <td>686.50</td>\n      <td>1084.00</td>\n      <td>1937.05</td>\n      <td>568.70</td>\n      <td>-337.75</td>\n      <td>1937.05</td>\n      <td>1.05</td>\n      <td>0</td>\n      <td>0.0%</td>\n    </tr>\n    <tr>\n      <th>perimeter_worst</th>\n      <td>50.41</td>\n      <td>84.11</td>\n      <td>97.66</td>\n      <td>125.40</td>\n      <td>187.34</td>\n      <td>41.29</td>\n      <td>22.17</td>\n      <td>187.34</td>\n      <td>0.87</td>\n      <td>0</td>\n      <td>0.0%</td>\n    </tr>\n    <tr>\n      <th>texture_worst</th>\n      <td>12.02</td>\n      <td>21.08</td>\n      <td>25.41</td>\n      <td>29.72</td>\n      <td>42.68</td>\n      <td>8.64</td>\n      <td>8.12</td>\n      <td>42.68</td>\n      <td>0.39</td>\n      <td>0</td>\n      <td>0.0%</td>\n    </tr>\n    <tr>\n      <th>radius_worst</th>\n      <td>7.93</td>\n      <td>13.01</td>\n      <td>14.97</td>\n      <td>18.79</td>\n      <td>27.46</td>\n      <td>5.78</td>\n      <td>4.34</td>\n      <td>27.46</td>\n      <td>0.85</td>\n      <td>0</td>\n      <td>0.0%</td>\n    </tr>\n    <tr>\n      <th>fractal_dimension_se</th>\n      <td>0.00</td>\n      <td>0.00</td>\n      <td>0.00</td>\n      <td>0.00</td>\n      <td>0.01</td>\n      <td>0.00</td>\n      <td>-0.00</td>\n      <td>0.01</td>\n      <td>0.98</td>\n      <td>0</td>\n      <td>0.0%</td>\n    </tr>\n    <tr>\n      <th>symmetry_se</th>\n      <td>0.01</td>\n      <td>0.02</td>\n      <td>0.02</td>\n      <td>0.02</td>\n      <td>0.04</td>\n      <td>0.01</td>\n      <td>0.00</td>\n      <td>0.04</td>\n      <td>0.87</td>\n      <td>0</td>\n      <td>0.0%</td>\n    </tr>\n    <tr>\n      <th>concave points_se</th>\n      <td>0.00</td>\n      <td>0.01</td>\n      <td>0.01</td>\n      <td>0.01</td>\n      <td>0.03</td>\n      <td>0.01</td>\n      <td>-0.00</td>\n      <td>0.03</td>\n      <td>0.54</td>\n      <td>0</td>\n      <td>0.0%</td>\n    </tr>\n    <tr>\n      <th>concavity_se</th>\n      <td>0.00</td>\n      <td>0.02</td>\n      <td>0.03</td>\n      <td>0.04</td>\n      <td>0.08</td>\n      <td>0.03</td>\n      <td>-0.03</td>\n      <td>0.08</td>\n      <td>0.92</td>\n      <td>0</td>\n      <td>0.0%</td>\n    </tr>\n    <tr>\n      <th>compactness_se</th>\n      <td>0.00</td>\n      <td>0.01</td>\n      <td>0.02</td>\n      <td>0.03</td>\n      <td>0.06</td>\n      <td>0.02</td>\n      <td>-0.02</td>\n      <td>0.06</td>\n      <td>0.99</td>\n      <td>0</td>\n      <td>0.0%</td>\n    </tr>\n    <tr>\n      <th>smoothness_se</th>\n      <td>0.00</td>\n      <td>0.01</td>\n      <td>0.01</td>\n      <td>0.01</td>\n      <td>0.01</td>\n      <td>0.00</td>\n      <td>0.00</td>\n      <td>0.01</td>\n      <td>0.78</td>\n      <td>0</td>\n      <td>0.0%</td>\n    </tr>\n    <tr>\n      <th>area_se</th>\n      <td>6.80</td>\n      <td>17.85</td>\n      <td>24.53</td>\n      <td>45.19</td>\n      <td>86.20</td>\n      <td>27.34</td>\n      <td>-23.16</td>\n      <td>86.20</td>\n      <td>1.13</td>\n      <td>0</td>\n      <td>0.0%</td>\n    </tr>\n    <tr>\n      <th>perimeter_se</th>\n      <td>0.76</td>\n      <td>1.61</td>\n      <td>2.29</td>\n      <td>3.36</td>\n      <td>5.98</td>\n      <td>1.75</td>\n      <td>-1.02</td>\n      <td>5.98</td>\n      <td>1.03</td>\n      <td>0</td>\n      <td>0.0%</td>\n    </tr>\n    <tr>\n      <th>texture_se</th>\n      <td>0.36</td>\n      <td>0.83</td>\n      <td>1.11</td>\n      <td>1.47</td>\n      <td>2.43</td>\n      <td>0.64</td>\n      <td>-0.13</td>\n      <td>2.43</td>\n      <td>0.74</td>\n      <td>0</td>\n      <td>0.0%</td>\n    </tr>\n    <tr>\n      <th>radius_se</th>\n      <td>0.11</td>\n      <td>0.23</td>\n      <td>0.32</td>\n      <td>0.48</td>\n      <td>0.85</td>\n      <td>0.25</td>\n      <td>-0.14</td>\n      <td>0.85</td>\n      <td>1.03</td>\n      <td>0</td>\n      <td>0.0%</td>\n    </tr>\n    <tr>\n      <th>fractal_dimension_mean</th>\n      <td>0.05</td>\n      <td>0.06</td>\n      <td>0.06</td>\n      <td>0.07</td>\n      <td>0.08</td>\n      <td>0.01</td>\n      <td>0.05</td>\n      <td>0.08</td>\n      <td>0.68</td>\n      <td>0</td>\n      <td>0.0%</td>\n    </tr>\n    <tr>\n      <th>symmetry_mean</th>\n      <td>0.11</td>\n      <td>0.16</td>\n      <td>0.18</td>\n      <td>0.20</td>\n      <td>0.25</td>\n      <td>0.03</td>\n      <td>0.11</td>\n      <td>0.25</td>\n      <td>0.40</td>\n      <td>0</td>\n      <td>0.0%</td>\n    </tr>\n    <tr>\n      <th>concave points_mean</th>\n      <td>0.00</td>\n      <td>0.02</td>\n      <td>0.03</td>\n      <td>0.07</td>\n      <td>0.15</td>\n      <td>0.05</td>\n      <td>-0.06</td>\n      <td>0.15</td>\n      <td>1.00</td>\n      <td>0</td>\n      <td>0.0%</td>\n    </tr>\n    <tr>\n      <th>concavity_mean</th>\n      <td>0.00</td>\n      <td>0.03</td>\n      <td>0.06</td>\n      <td>0.13</td>\n      <td>0.28</td>\n      <td>0.10</td>\n      <td>-0.12</td>\n      <td>0.28</td>\n      <td>1.02</td>\n      <td>0</td>\n      <td>0.0%</td>\n    </tr>\n    <tr>\n      <th>compactness_mean</th>\n      <td>0.02</td>\n      <td>0.06</td>\n      <td>0.09</td>\n      <td>0.13</td>\n      <td>0.23</td>\n      <td>0.07</td>\n      <td>-0.03</td>\n      <td>0.23</td>\n      <td>0.83</td>\n      <td>0</td>\n      <td>0.0%</td>\n    </tr>\n    <tr>\n      <th>smoothness_mean</th>\n      <td>0.06</td>\n      <td>0.09</td>\n      <td>0.10</td>\n      <td>0.11</td>\n      <td>0.13</td>\n      <td>0.02</td>\n      <td>0.06</td>\n      <td>0.13</td>\n      <td>0.26</td>\n      <td>0</td>\n      <td>0.0%</td>\n    </tr>\n    <tr>\n      <th>area_mean</th>\n      <td>143.50</td>\n      <td>420.30</td>\n      <td>551.10</td>\n      <td>782.70</td>\n      <td>1326.30</td>\n      <td>362.40</td>\n      <td>-123.30</td>\n      <td>1326.30</td>\n      <td>0.92</td>\n      <td>0</td>\n      <td>0.0%</td>\n    </tr>\n    <tr>\n      <th>perimeter_mean</th>\n      <td>43.79</td>\n      <td>75.17</td>\n      <td>86.24</td>\n      <td>104.10</td>\n      <td>147.49</td>\n      <td>28.93</td>\n      <td>31.78</td>\n      <td>147.49</td>\n      <td>0.70</td>\n      <td>0</td>\n      <td>0.0%</td>\n    </tr>\n    <tr>\n      <th>fractal_dimension_worst</th>\n      <td>0.06</td>\n      <td>0.07</td>\n      <td>0.08</td>\n      <td>0.09</td>\n      <td>0.12</td>\n      <td>0.02</td>\n      <td>0.04</td>\n      <td>0.12</td>\n      <td>0.83</td>\n      <td>0</td>\n      <td>0.0%</td>\n    </tr>\n  </tbody>\n</table>\n</div>",
      "text/plain": "                           Min     Q1  Median      Q3     Max    IQR  Lower fence  Upper fence  Skew  Number_of_outliers Percentage_of_outliers\nName of columns                                                                                                                                \nradius_mean               6.98  11.70   13.37   15.78   21.90   4.08         5.58        21.90  0.66                   0                   0.0%\ntexture_mean              9.71  16.17   18.84   21.80   30.24   5.63         7.73        30.24  0.45                   0                   0.0%\nsymmetry_worst            0.16   0.25    0.28    0.32    0.42   0.07         0.15         0.42  0.52                   0                   0.0%\nconcave points_worst      0.00   0.06    0.10    0.16    0.29   0.10        -0.08         0.31  0.49                   0                   0.0%\nconcavity_worst           0.00   0.11    0.23    0.38    0.79   0.27        -0.29         0.79  0.81                   0                   0.0%\ncompactness_worst         0.03   0.15    0.21    0.34    0.63   0.19        -0.14         0.63  0.92                   0                   0.0%\nsmoothness_worst          0.07   0.12    0.13    0.15    0.19   0.03         0.07         0.19  0.25                   0                   0.0%\narea_worst              185.20 515.30  686.50 1084.00 1937.05 568.70      -337.75      1937.05  1.05                   0                   0.0%\nperimeter_worst          50.41  84.11   97.66  125.40  187.34  41.29        22.17       187.34  0.87                   0                   0.0%\ntexture_worst            12.02  21.08   25.41   29.72   42.68   8.64         8.12        42.68  0.39                   0                   0.0%\nradius_worst              7.93  13.01   14.97   18.79   27.46   5.78         4.34        27.46  0.85                   0                   0.0%\nfractal_dimension_se      0.00   0.00    0.00    0.00    0.01   0.00        -0.00         0.01  0.98                   0                   0.0%\nsymmetry_se               0.01   0.02    0.02    0.02    0.04   0.01         0.00         0.04  0.87                   0                   0.0%\nconcave points_se         0.00   0.01    0.01    0.01    0.03   0.01        -0.00         0.03  0.54                   0                   0.0%\nconcavity_se              0.00   0.02    0.03    0.04    0.08   0.03        -0.03         0.08  0.92                   0                   0.0%\ncompactness_se            0.00   0.01    0.02    0.03    0.06   0.02        -0.02         0.06  0.99                   0                   0.0%\nsmoothness_se             0.00   0.01    0.01    0.01    0.01   0.00         0.00         0.01  0.78                   0                   0.0%\narea_se                   6.80  17.85   24.53   45.19   86.20  27.34       -23.16        86.20  1.13                   0                   0.0%\nperimeter_se              0.76   1.61    2.29    3.36    5.98   1.75        -1.02         5.98  1.03                   0                   0.0%\ntexture_se                0.36   0.83    1.11    1.47    2.43   0.64        -0.13         2.43  0.74                   0                   0.0%\nradius_se                 0.11   0.23    0.32    0.48    0.85   0.25        -0.14         0.85  1.03                   0                   0.0%\nfractal_dimension_mean    0.05   0.06    0.06    0.07    0.08   0.01         0.05         0.08  0.68                   0                   0.0%\nsymmetry_mean             0.11   0.16    0.18    0.20    0.25   0.03         0.11         0.25  0.40                   0                   0.0%\nconcave points_mean       0.00   0.02    0.03    0.07    0.15   0.05        -0.06         0.15  1.00                   0                   0.0%\nconcavity_mean            0.00   0.03    0.06    0.13    0.28   0.10        -0.12         0.28  1.02                   0                   0.0%\ncompactness_mean          0.02   0.06    0.09    0.13    0.23   0.07        -0.03         0.23  0.83                   0                   0.0%\nsmoothness_mean           0.06   0.09    0.10    0.11    0.13   0.02         0.06         0.13  0.26                   0                   0.0%\narea_mean               143.50 420.30  551.10  782.70 1326.30 362.40      -123.30      1326.30  0.92                   0                   0.0%\nperimeter_mean           43.79  75.17   86.24  104.10  147.49  28.93        31.78       147.49  0.70                   0                   0.0%\nfractal_dimension_worst   0.06   0.07    0.08    0.09    0.12   0.02         0.04         0.12  0.83                   0                   0.0%"
     },
     "execution_count": 20,
     "metadata": {},
     "output_type": "execute_result"
    }
   ],
   "source": [
    "outlier_handler.getOverview(columns)"
   ]
  },
  {
   "cell_type": "markdown",
   "metadata": {},
   "source": [
    "## Data Types"
   ]
  },
  {
   "cell_type": "markdown",
   "metadata": {},
   "source": [
    "Let's check if there are columns with mixed data types."
   ]
  },
  {
   "cell_type": "code",
   "execution_count": 21,
   "metadata": {},
   "outputs": [
    {
     "name": "stdout",
     "output_type": "stream",
     "text": [
      "None of the columns contain mixed types.\n"
     ]
    }
   ],
   "source": [
    "show_cols_mixed_dtypes(df)"
   ]
  },
  {
   "cell_type": "code",
   "execution_count": 22,
   "metadata": {},
   "outputs": [
    {
     "data": {
      "text/plain": "id                           int64\ndiagnosis                   object\nradius_mean                float64\ntexture_mean               float64\nperimeter_mean             float64\narea_mean                  float64\nsmoothness_mean            float64\ncompactness_mean           float64\nconcavity_mean             float64\nconcave points_mean        float64\nsymmetry_mean              float64\nfractal_dimension_mean     float64\nradius_se                  float64\ntexture_se                 float64\nperimeter_se               float64\narea_se                    float64\nsmoothness_se              float64\ncompactness_se             float64\nconcavity_se               float64\nconcave points_se          float64\nsymmetry_se                float64\nfractal_dimension_se       float64\nradius_worst               float64\ntexture_worst              float64\nperimeter_worst            float64\narea_worst                 float64\nsmoothness_worst           float64\ncompactness_worst          float64\nconcavity_worst            float64\nconcave points_worst       float64\nsymmetry_worst             float64\nfractal_dimension_worst    float64\ndtype: object"
     },
     "execution_count": 22,
     "metadata": {},
     "output_type": "execute_result"
    }
   ],
   "source": [
    "df.dtypes"
   ]
  },
  {
   "cell_type": "markdown",
   "metadata": {},
   "source": [
    "The only categorical feature is diagnosis."
   ]
  },
  {
   "cell_type": "markdown",
   "metadata": {},
   "source": [
    "## Duplicates"
   ]
  },
  {
   "cell_type": "code",
   "execution_count": 23,
   "metadata": {},
   "outputs": [
    {
     "name": "stdout",
     "output_type": "stream",
     "text": [
      "No duplicate rows were found.\n"
     ]
    }
   ],
   "source": [
    "# search for duplicate rows and drop them\n",
    "drop_duplicates(df)"
   ]
  },
  {
   "cell_type": "markdown",
   "metadata": {},
   "source": [
    "## Saving Data"
   ]
  },
  {
   "cell_type": "code",
   "execution_count": 26,
   "metadata": {},
   "outputs": [],
   "source": [
    "# save the clean dataframe to a csv file\n",
    "df.to_csv('../data/data.csv', index=False)"
   ]
  },
  {
   "cell_type": "markdown",
   "metadata": {},
   "source": [
    "Here the cleaned dataframe is saved as version 2 (v2) using dvc ."
   ]
  },
  {
   "cell_type": "markdown",
   "metadata": {},
   "source": [
    "## Univariate Analysis"
   ]
  },
  {
   "cell_type": "markdown",
   "metadata": {},
   "source": [
    "### Non-Graphical Univariate Analysis"
   ]
  },
  {
   "cell_type": "code",
   "execution_count": 36,
   "metadata": {},
   "outputs": [],
   "source": [
    "# df.describe().transpose()"
   ]
  },
  {
   "cell_type": "code",
   "execution_count": 35,
   "metadata": {},
   "outputs": [
    {
     "name": "stdout",
     "output_type": "stream",
     "text": [
      "\n",
      " Descriptive Statistics of The Dataset \n",
      "\n"
     ]
    },
    {
     "data": {
      "text/html": "<style  type=\"text/css\" >\n#T_fd18b_row0_col0,#T_fd18b_row0_col1,#T_fd18b_row0_col3,#T_fd18b_row1_col0,#T_fd18b_row1_col1,#T_fd18b_row1_col3,#T_fd18b_row2_col0,#T_fd18b_row2_col1,#T_fd18b_row2_col3,#T_fd18b_row3_col0,#T_fd18b_row3_col1,#T_fd18b_row3_col3,#T_fd18b_row4_col0,#T_fd18b_row4_col1,#T_fd18b_row4_col3,#T_fd18b_row5_col0,#T_fd18b_row5_col1,#T_fd18b_row5_col3,#T_fd18b_row6_col0,#T_fd18b_row6_col1,#T_fd18b_row6_col3,#T_fd18b_row7_col0,#T_fd18b_row7_col1,#T_fd18b_row7_col3,#T_fd18b_row8_col0,#T_fd18b_row8_col1,#T_fd18b_row8_col3,#T_fd18b_row9_col0,#T_fd18b_row9_col1,#T_fd18b_row9_col3,#T_fd18b_row10_col0,#T_fd18b_row10_col1,#T_fd18b_row10_col3,#T_fd18b_row11_col0,#T_fd18b_row11_col1,#T_fd18b_row11_col3,#T_fd18b_row12_col0,#T_fd18b_row12_col1,#T_fd18b_row12_col3,#T_fd18b_row13_col0,#T_fd18b_row13_col1,#T_fd18b_row13_col3,#T_fd18b_row14_col0,#T_fd18b_row14_col1,#T_fd18b_row14_col3,#T_fd18b_row15_col0,#T_fd18b_row15_col1,#T_fd18b_row15_col3,#T_fd18b_row16_col0,#T_fd18b_row16_col1,#T_fd18b_row16_col3,#T_fd18b_row17_col0,#T_fd18b_row17_col1,#T_fd18b_row17_col3,#T_fd18b_row18_col0,#T_fd18b_row18_col1,#T_fd18b_row18_col3,#T_fd18b_row19_col0,#T_fd18b_row19_col1,#T_fd18b_row19_col3,#T_fd18b_row20_col0,#T_fd18b_row20_col1,#T_fd18b_row20_col3,#T_fd18b_row21_col0,#T_fd18b_row21_col1,#T_fd18b_row21_col3,#T_fd18b_row22_col0,#T_fd18b_row22_col1,#T_fd18b_row22_col3,#T_fd18b_row23_col0,#T_fd18b_row23_col1,#T_fd18b_row23_col3,#T_fd18b_row24_col0,#T_fd18b_row24_col1,#T_fd18b_row24_col3,#T_fd18b_row25_col0,#T_fd18b_row25_col1,#T_fd18b_row25_col3,#T_fd18b_row26_col0,#T_fd18b_row26_col1,#T_fd18b_row26_col3,#T_fd18b_row27_col0,#T_fd18b_row27_col1,#T_fd18b_row27_col3,#T_fd18b_row28_col0,#T_fd18b_row28_col1,#T_fd18b_row28_col3,#T_fd18b_row29_col0,#T_fd18b_row29_col1,#T_fd18b_row29_col3{\n            background-color:  white;\n            color:  black;\n        }#T_fd18b_row0_col2{\n            width:  10em;\n             height:  80%;\n            background:  linear-gradient(90deg,#fed766 47.5%, transparent 47.5%);\n            background-color:  white;\n            color:  black;\n        }#T_fd18b_row0_col4,#T_fd18b_row1_col4,#T_fd18b_row2_col4,#T_fd18b_row3_col4,#T_fd18b_row4_col4,#T_fd18b_row5_col4,#T_fd18b_row6_col4,#T_fd18b_row7_col4,#T_fd18b_row8_col4,#T_fd18b_row9_col4,#T_fd18b_row10_col4,#T_fd18b_row11_col4,#T_fd18b_row12_col4,#T_fd18b_row13_col4,#T_fd18b_row14_col4,#T_fd18b_row15_col4,#T_fd18b_row16_col4,#T_fd18b_row17_col4,#T_fd18b_row18_col4,#T_fd18b_row19_col4,#T_fd18b_row20_col4,#T_fd18b_row21_col4,#T_fd18b_row22_col4,#T_fd18b_row23_col4,#T_fd18b_row24_col4,#T_fd18b_row25_col4,#T_fd18b_row26_col4,#T_fd18b_row27_col4,#T_fd18b_row28_col4,#T_fd18b_row29_col4{\n            width:  10em;\n             height:  80%;\n            background-color:  white;\n            color:  black;\n        }#T_fd18b_row0_col5{\n            width:  10em;\n             height:  80%;\n            background:  linear-gradient(90deg,#fed766 31.6%, transparent 31.6%);\n            background-color:  white;\n            color:  black;\n        }#T_fd18b_row0_col6,#T_fd18b_row14_col6{\n            width:  10em;\n             height:  80%;\n            background:  linear-gradient(90deg,#fed766 42.8%, transparent 42.8%);\n            background-color:  white;\n            color:  black;\n        }#T_fd18b_row0_col7,#T_fd18b_row14_col7{\n            width:  10em;\n             height:  80%;\n            background:  linear-gradient(90deg,#fed766 59.0%, transparent 59.0%);\n            background-color:  white;\n            color:  black;\n        }#T_fd18b_row0_col8,#T_fd18b_row1_col8,#T_fd18b_row2_col8,#T_fd18b_row3_col8,#T_fd18b_row4_col8,#T_fd18b_row5_col8,#T_fd18b_row6_col8,#T_fd18b_row7_col8,#T_fd18b_row8_col8,#T_fd18b_row9_col8,#T_fd18b_row10_col8,#T_fd18b_row11_col8,#T_fd18b_row12_col8,#T_fd18b_row13_col8,#T_fd18b_row14_col8,#T_fd18b_row15_col8,#T_fd18b_row16_col8,#T_fd18b_row17_col8,#T_fd18b_row18_col8,#T_fd18b_row19_col8,#T_fd18b_row20_col8,#T_fd18b_row21_col8,#T_fd18b_row22_col8,#T_fd18b_row23_col8,#T_fd18b_row24_col8,#T_fd18b_row25_col8,#T_fd18b_row26_col8,#T_fd18b_row27_col8,#T_fd18b_row28_col8,#T_fd18b_row29_col8{\n            width:  10em;\n             height:  80%;\n            background:  linear-gradient(90deg,#fed766 100.0%, transparent 100.0%);\n            background-color:  white;\n            color:  black;\n        }#T_fd18b_row1_col2{\n            width:  10em;\n             height:  80%;\n            background:  linear-gradient(90deg,#fed766 46.5%, transparent 46.5%);\n            background-color:  white;\n            color:  black;\n        }#T_fd18b_row1_col5{\n            width:  10em;\n             height:  80%;\n            background:  linear-gradient(90deg,#fed766 31.5%, transparent 31.5%);\n            background-color:  white;\n            color:  black;\n        }#T_fd18b_row1_col6,#T_fd18b_row21_col2{\n            width:  10em;\n             height:  80%;\n            background:  linear-gradient(90deg,#fed766 44.5%, transparent 44.5%);\n            background-color:  white;\n            color:  black;\n        }#T_fd18b_row1_col7{\n            width:  10em;\n             height:  80%;\n            background:  linear-gradient(90deg,#fed766 58.9%, transparent 58.9%);\n            background-color:  white;\n            color:  black;\n        }#T_fd18b_row2_col2{\n            width:  10em;\n             height:  80%;\n            background:  linear-gradient(90deg,#fed766 46.0%, transparent 46.0%);\n            background-color:  white;\n            color:  black;\n        }#T_fd18b_row2_col5{\n            width:  10em;\n             height:  80%;\n            background:  linear-gradient(90deg,#fed766 30.3%, transparent 30.3%);\n            background-color:  white;\n            color:  black;\n        }#T_fd18b_row2_col6{\n            width:  10em;\n             height:  80%;\n            background:  linear-gradient(90deg,#fed766 40.9%, transparent 40.9%);\n            background-color:  white;\n            color:  black;\n        }#T_fd18b_row2_col7{\n            width:  10em;\n             height:  80%;\n            background:  linear-gradient(90deg,#fed766 58.2%, transparent 58.2%);\n            background-color:  white;\n            color:  black;\n        }#T_fd18b_row3_col2{\n            width:  10em;\n             height:  80%;\n            background:  linear-gradient(90deg,#fed766 42.0%, transparent 42.0%);\n            background-color:  white;\n            color:  black;\n        }#T_fd18b_row3_col5{\n            width:  10em;\n             height:  80%;\n            background:  linear-gradient(90deg,#fed766 23.4%, transparent 23.4%);\n            background-color:  white;\n            color:  black;\n        }#T_fd18b_row3_col6,#T_fd18b_row22_col6{\n            width:  10em;\n             height:  80%;\n            background:  linear-gradient(90deg,#fed766 34.5%, transparent 34.5%);\n            background-color:  white;\n            color:  black;\n        }#T_fd18b_row3_col7{\n            width:  10em;\n             height:  80%;\n            background:  linear-gradient(90deg,#fed766 54.0%, transparent 54.0%);\n            background-color:  white;\n            color:  black;\n        }#T_fd18b_row4_col2{\n            width:  10em;\n             height:  80%;\n            background:  linear-gradient(90deg,#fed766 50.6%, transparent 50.6%);\n            background-color:  white;\n            color:  black;\n        }#T_fd18b_row4_col5,#T_fd18b_row8_col5,#T_fd18b_row24_col5{\n            width:  10em;\n             height:  80%;\n            background:  linear-gradient(90deg,#fed766 37.5%, transparent 37.5%);\n            background-color:  white;\n            color:  black;\n        }#T_fd18b_row4_col6,#T_fd18b_row24_col6{\n            width:  10em;\n             height:  80%;\n            background:  linear-gradient(90deg,#fed766 50.0%, transparent 50.0%);\n            background-color:  white;\n            color:  black;\n        }#T_fd18b_row4_col7,#T_fd18b_row8_col7,#T_fd18b_row24_col7{\n            width:  10em;\n             height:  80%;\n            background:  linear-gradient(90deg,#fed766 62.5%, transparent 62.5%);\n            background-color:  white;\n            color:  black;\n        }#T_fd18b_row5_col2{\n            width:  10em;\n             height:  80%;\n            background:  linear-gradient(90deg,#fed766 40.1%, transparent 40.1%);\n            background-color:  white;\n            color:  black;\n        }#T_fd18b_row5_col5,#T_fd18b_row6_col6{\n            width:  10em;\n             height:  80%;\n            background:  linear-gradient(90deg,#fed766 21.8%, transparent 21.8%);\n            background-color:  white;\n            color:  black;\n        }#T_fd18b_row5_col6{\n            width:  10em;\n             height:  80%;\n            background:  linear-gradient(90deg,#fed766 35.0%, transparent 35.0%);\n            background-color:  white;\n            color:  black;\n        }#T_fd18b_row5_col7{\n            width:  10em;\n             height:  80%;\n            background:  linear-gradient(90deg,#fed766 53.1%, transparent 53.1%);\n            background-color:  white;\n            color:  black;\n        }#T_fd18b_row6_col2,#T_fd18b_row25_col6{\n            width:  10em;\n             height:  80%;\n            background:  linear-gradient(90deg,#fed766 30.8%, transparent 30.8%);\n            background-color:  white;\n            color:  black;\n        }#T_fd18b_row6_col5{\n            width:  10em;\n             height:  80%;\n            background:  linear-gradient(90deg,#fed766 10.5%, transparent 10.5%);\n            background-color:  white;\n            color:  black;\n        }#T_fd18b_row6_col7{\n            width:  10em;\n             height:  80%;\n            background:  linear-gradient(90deg,#fed766 46.3%, transparent 46.3%);\n            background-color:  white;\n            color:  black;\n        }#T_fd18b_row7_col2,#T_fd18b_row16_col6{\n            width:  10em;\n             height:  80%;\n            background:  linear-gradient(90deg,#fed766 31.4%, transparent 31.4%);\n            background-color:  white;\n            color:  black;\n        }#T_fd18b_row7_col5{\n            width:  10em;\n             height:  80%;\n            background:  linear-gradient(90deg,#fed766 13.1%, transparent 13.1%);\n            background-color:  white;\n            color:  black;\n        }#T_fd18b_row7_col6{\n            width:  10em;\n             height:  80%;\n            background:  linear-gradient(90deg,#fed766 21.7%, transparent 21.7%);\n            background-color:  white;\n            color:  black;\n        }#T_fd18b_row7_col7,#T_fd18b_row28_col6{\n            width:  10em;\n             height:  80%;\n            background:  linear-gradient(90deg,#fed766 47.9%, transparent 47.9%);\n            background-color:  white;\n            color:  black;\n        }#T_fd18b_row8_col2,#T_fd18b_row19_col7{\n            width:  10em;\n             height:  80%;\n            background:  linear-gradient(90deg,#fed766 51.4%, transparent 51.4%);\n            background-color:  white;\n            color:  black;\n        }#T_fd18b_row8_col6{\n            width:  10em;\n             height:  80%;\n            background:  linear-gradient(90deg,#fed766 50.3%, transparent 50.3%);\n            background-color:  white;\n            color:  black;\n        }#T_fd18b_row9_col2{\n            width:  10em;\n             height:  80%;\n            background:  linear-gradient(90deg,#fed766 43.9%, transparent 43.9%);\n            background-color:  white;\n            color:  black;\n        }#T_fd18b_row9_col5{\n            width:  10em;\n             height:  80%;\n            background:  linear-gradient(90deg,#fed766 26.9%, transparent 26.9%);\n            background-color:  white;\n            color:  black;\n        }#T_fd18b_row9_col6{\n            width:  10em;\n             height:  80%;\n            background:  linear-gradient(90deg,#fed766 40.2%, transparent 40.2%);\n            background-color:  white;\n            color:  black;\n        }#T_fd18b_row9_col7{\n            width:  10em;\n             height:  80%;\n            background:  linear-gradient(90deg,#fed766 56.1%, transparent 56.1%);\n            background-color:  white;\n            color:  black;\n        }#T_fd18b_row10_col2,#T_fd18b_row25_col2{\n            width:  10em;\n             height:  80%;\n            background:  linear-gradient(90deg,#fed766 37.1%, transparent 37.1%);\n            background-color:  white;\n            color:  black;\n        }#T_fd18b_row10_col5{\n            width:  10em;\n             height:  80%;\n            background:  linear-gradient(90deg,#fed766 16.4%, transparent 16.4%);\n            background-color:  white;\n            color:  black;\n        }#T_fd18b_row10_col6,#T_fd18b_row26_col6{\n            width:  10em;\n             height:  80%;\n            background:  linear-gradient(90deg,#fed766 28.9%, transparent 28.9%);\n            background-color:  white;\n            color:  black;\n        }#T_fd18b_row10_col7{\n            width:  10em;\n             height:  80%;\n            background:  linear-gradient(90deg,#fed766 49.8%, transparent 49.8%);\n            background-color:  white;\n            color:  black;\n        }#T_fd18b_row11_col2{\n            width:  10em;\n             height:  80%;\n            background:  linear-gradient(90deg,#fed766 40.4%, transparent 40.4%);\n            background-color:  white;\n            color:  black;\n        }#T_fd18b_row11_col5{\n            width:  10em;\n             height:  80%;\n            background:  linear-gradient(90deg,#fed766 22.8%, transparent 22.8%);\n            background-color:  white;\n            color:  black;\n        }#T_fd18b_row11_col6{\n            width:  10em;\n             height:  80%;\n            background:  linear-gradient(90deg,#fed766 36.1%, transparent 36.1%);\n            background-color:  white;\n            color:  black;\n        }#T_fd18b_row11_col7{\n            width:  10em;\n             height:  80%;\n            background:  linear-gradient(90deg,#fed766 53.7%, transparent 53.7%);\n            background-color:  white;\n            color:  black;\n        }#T_fd18b_row12_col2{\n            width:  10em;\n             height:  80%;\n            background:  linear-gradient(90deg,#fed766 37.2%, transparent 37.2%);\n            background-color:  white;\n            color:  black;\n        }#T_fd18b_row12_col5{\n            width:  10em;\n             height:  80%;\n            background:  linear-gradient(90deg,#fed766 16.2%, transparent 16.2%);\n            background-color:  white;\n            color:  black;\n        }#T_fd18b_row12_col6{\n            width:  10em;\n             height:  80%;\n            background:  linear-gradient(90deg,#fed766 29.3%, transparent 29.3%);\n            background-color:  white;\n            color:  black;\n        }#T_fd18b_row12_col7{\n            width:  10em;\n             height:  80%;\n            background:  linear-gradient(90deg,#fed766 49.7%, transparent 49.7%);\n            background-color:  white;\n            color:  black;\n        }#T_fd18b_row13_col2{\n            width:  10em;\n             height:  80%;\n            background:  linear-gradient(90deg,#fed766 35.5%, transparent 35.5%);\n            background-color:  white;\n            color:  black;\n        }#T_fd18b_row13_col5{\n            width:  10em;\n             height:  80%;\n            background:  linear-gradient(90deg,#fed766 13.9%, transparent 13.9%);\n            background-color:  white;\n            color:  black;\n        }#T_fd18b_row13_col6,#T_fd18b_row27_col5{\n            width:  10em;\n             height:  80%;\n            background:  linear-gradient(90deg,#fed766 22.3%, transparent 22.3%);\n            background-color:  white;\n            color:  black;\n        }#T_fd18b_row13_col7{\n            width:  10em;\n             height:  80%;\n            background:  linear-gradient(90deg,#fed766 48.3%, transparent 48.3%);\n            background-color:  white;\n            color:  black;\n        }#T_fd18b_row14_col2{\n            width:  10em;\n             height:  80%;\n            background:  linear-gradient(90deg,#fed766 47.4%, transparent 47.4%);\n            background-color:  white;\n            color:  black;\n        }#T_fd18b_row14_col5{\n            width:  10em;\n             height:  80%;\n            background:  linear-gradient(90deg,#fed766 31.7%, transparent 31.7%);\n            background-color:  white;\n            color:  black;\n        }#T_fd18b_row15_col2{\n            width:  10em;\n             height:  80%;\n            background:  linear-gradient(90deg,#fed766 37.7%, transparent 37.7%);\n            background-color:  white;\n            color:  black;\n        }#T_fd18b_row15_col5,#T_fd18b_row16_col5{\n            width:  10em;\n             height:  80%;\n            background:  linear-gradient(90deg,#fed766 18.3%, transparent 18.3%);\n            background-color:  white;\n            color:  black;\n        }#T_fd18b_row15_col6{\n            width:  10em;\n             height:  80%;\n            background:  linear-gradient(90deg,#fed766 30.7%, transparent 30.7%);\n            background-color:  white;\n            color:  black;\n        }#T_fd18b_row15_col7,#T_fd18b_row16_col7{\n            width:  10em;\n             height:  80%;\n            background:  linear-gradient(90deg,#fed766 51.0%, transparent 51.0%);\n            background-color:  white;\n            color:  black;\n        }#T_fd18b_row16_col2{\n            width:  10em;\n             height:  80%;\n            background:  linear-gradient(90deg,#fed766 36.4%, transparent 36.4%);\n            background-color:  white;\n            color:  black;\n        }#T_fd18b_row17_col2{\n            width:  10em;\n             height:  80%;\n            background:  linear-gradient(90deg,#fed766 45.8%, transparent 45.8%);\n            background-color:  white;\n            color:  black;\n        }#T_fd18b_row17_col5{\n            width:  10em;\n             height:  80%;\n            background:  linear-gradient(90deg,#fed766 30.2%, transparent 30.2%);\n            background-color:  white;\n            color:  black;\n        }#T_fd18b_row17_col6{\n            width:  10em;\n             height:  80%;\n            background:  linear-gradient(90deg,#fed766 43.2%, transparent 43.2%);\n            background-color:  white;\n            color:  black;\n        }#T_fd18b_row17_col7{\n            width:  10em;\n             height:  80%;\n            background:  linear-gradient(90deg,#fed766 58.1%, transparent 58.1%);\n            background-color:  white;\n            color:  black;\n        }#T_fd18b_row18_col2{\n            width:  10em;\n             height:  80%;\n            background:  linear-gradient(90deg,#fed766 43.3%, transparent 43.3%);\n            background-color:  white;\n            color:  black;\n        }#T_fd18b_row18_col5{\n            width:  10em;\n             height:  80%;\n            background:  linear-gradient(90deg,#fed766 25.9%, transparent 25.9%);\n            background-color:  white;\n            color:  black;\n        }#T_fd18b_row18_col6{\n            width:  10em;\n             height:  80%;\n            background:  linear-gradient(90deg,#fed766 38.6%, transparent 38.6%);\n            background-color:  white;\n            color:  black;\n        }#T_fd18b_row18_col7,#T_fd18b_row20_col7{\n            width:  10em;\n             height:  80%;\n            background:  linear-gradient(90deg,#fed766 55.6%, transparent 55.6%);\n            background-color:  white;\n            color:  black;\n        }#T_fd18b_row19_col2{\n            width:  10em;\n             height:  80%;\n            background:  linear-gradient(90deg,#fed766 37.8%, transparent 37.8%);\n            background-color:  white;\n            color:  black;\n        }#T_fd18b_row19_col5{\n            width:  10em;\n             height:  80%;\n            background:  linear-gradient(90deg,#fed766 19.0%, transparent 19.0%);\n            background-color:  white;\n            color:  black;\n        }#T_fd18b_row19_col6{\n            width:  10em;\n             height:  80%;\n            background:  linear-gradient(90deg,#fed766 32.2%, transparent 32.2%);\n            background-color:  white;\n            color:  black;\n        }#T_fd18b_row20_col2{\n            width:  10em;\n             height:  80%;\n            background:  linear-gradient(90deg,#fed766 42.3%, transparent 42.3%);\n            background-color:  white;\n            color:  black;\n        }#T_fd18b_row20_col5{\n            width:  10em;\n             height:  80%;\n            background:  linear-gradient(90deg,#fed766 26.0%, transparent 26.0%);\n            background-color:  white;\n            color:  black;\n        }#T_fd18b_row20_col6{\n            width:  10em;\n             height:  80%;\n            background:  linear-gradient(90deg,#fed766 36.0%, transparent 36.0%);\n            background-color:  white;\n            color:  black;\n        }#T_fd18b_row21_col5{\n            width:  10em;\n             height:  80%;\n            background:  linear-gradient(90deg,#fed766 29.5%, transparent 29.5%);\n            background-color:  white;\n            color:  black;\n        }#T_fd18b_row21_col6{\n            width:  10em;\n             height:  80%;\n            background:  linear-gradient(90deg,#fed766 43.7%, transparent 43.7%);\n            background-color:  white;\n            color:  black;\n        }#T_fd18b_row21_col7{\n            width:  10em;\n             height:  80%;\n            background:  linear-gradient(90deg,#fed766 57.7%, transparent 57.7%);\n            background-color:  white;\n            color:  black;\n        }#T_fd18b_row22_col2{\n            width:  10em;\n             height:  80%;\n            background:  linear-gradient(90deg,#fed766 41.1%, transparent 41.1%);\n            background-color:  white;\n            color:  black;\n        }#T_fd18b_row22_col5{\n            width:  10em;\n             height:  80%;\n            background:  linear-gradient(90deg,#fed766 24.6%, transparent 24.6%);\n            background-color:  white;\n            color:  black;\n        }#T_fd18b_row22_col7{\n            width:  10em;\n             height:  80%;\n            background:  linear-gradient(90deg,#fed766 54.8%, transparent 54.8%);\n            background-color:  white;\n            color:  black;\n        }#T_fd18b_row23_col2{\n            width:  10em;\n             height:  80%;\n            background:  linear-gradient(90deg,#fed766 37.9%, transparent 37.9%);\n            background-color:  white;\n            color:  black;\n        }#T_fd18b_row23_col5{\n            width:  10em;\n             height:  80%;\n            background:  linear-gradient(90deg,#fed766 18.8%, transparent 18.8%);\n            background-color:  white;\n            color:  black;\n        }#T_fd18b_row23_col6{\n            width:  10em;\n             height:  80%;\n            background:  linear-gradient(90deg,#fed766 28.6%, transparent 28.6%);\n            background-color:  white;\n            color:  black;\n        }#T_fd18b_row23_col7{\n            width:  10em;\n             height:  80%;\n            background:  linear-gradient(90deg,#fed766 51.3%, transparent 51.3%);\n            background-color:  white;\n            color:  black;\n        }#T_fd18b_row24_col2{\n            width:  10em;\n             height:  80%;\n            background:  linear-gradient(90deg,#fed766 50.8%, transparent 50.8%);\n            background-color:  white;\n            color:  black;\n        }#T_fd18b_row25_col5{\n            width:  10em;\n             height:  80%;\n            background:  linear-gradient(90deg,#fed766 20.0%, transparent 20.0%);\n            background-color:  white;\n            color:  black;\n        }#T_fd18b_row25_col7{\n            width:  10em;\n             height:  80%;\n            background:  linear-gradient(90deg,#fed766 52.0%, transparent 52.0%);\n            background-color:  white;\n            color:  black;\n        }#T_fd18b_row26_col2{\n            width:  10em;\n             height:  80%;\n            background:  linear-gradient(90deg,#fed766 34.2%, transparent 34.2%);\n            background-color:  white;\n            color:  black;\n        }#T_fd18b_row26_col5{\n            width:  10em;\n             height:  80%;\n            background:  linear-gradient(90deg,#fed766 14.6%, transparent 14.6%);\n            background-color:  white;\n            color:  black;\n        }#T_fd18b_row26_col7{\n            width:  10em;\n             height:  80%;\n            background:  linear-gradient(90deg,#fed766 48.7%, transparent 48.7%);\n            background-color:  white;\n            color:  black;\n        }#T_fd18b_row27_col2{\n            width:  10em;\n             height:  80%;\n            background:  linear-gradient(90deg,#fed766 39.4%, transparent 39.4%);\n            background-color:  white;\n            color:  black;\n        }#T_fd18b_row27_col6{\n            width:  10em;\n             height:  80%;\n            background:  linear-gradient(90deg,#fed766 34.3%, transparent 34.3%);\n            background-color:  white;\n            color:  black;\n        }#T_fd18b_row27_col7{\n            width:  10em;\n             height:  80%;\n            background:  linear-gradient(90deg,#fed766 55.5%, transparent 55.5%);\n            background-color:  white;\n            color:  black;\n        }#T_fd18b_row28_col2{\n            width:  10em;\n             height:  80%;\n            background:  linear-gradient(90deg,#fed766 49.9%, transparent 49.9%);\n            background-color:  white;\n            color:  black;\n        }#T_fd18b_row28_col5{\n            width:  10em;\n             height:  80%;\n            background:  linear-gradient(90deg,#fed766 35.8%, transparent 35.8%);\n            background-color:  white;\n            color:  black;\n        }#T_fd18b_row28_col7{\n            width:  10em;\n             height:  80%;\n            background:  linear-gradient(90deg,#fed766 61.5%, transparent 61.5%);\n            background-color:  white;\n            color:  black;\n        }#T_fd18b_row29_col2{\n            width:  10em;\n             height:  80%;\n            background:  linear-gradient(90deg,#fed766 41.6%, transparent 41.6%);\n            background-color:  white;\n            color:  black;\n        }#T_fd18b_row29_col5{\n            width:  10em;\n             height:  80%;\n            background:  linear-gradient(90deg,#fed766 24.2%, transparent 24.2%);\n            background-color:  white;\n            color:  black;\n        }#T_fd18b_row29_col6{\n            width:  10em;\n             height:  80%;\n            background:  linear-gradient(90deg,#fed766 36.8%, transparent 36.8%);\n            background-color:  white;\n            color:  black;\n        }#T_fd18b_row29_col7{\n            width:  10em;\n             height:  80%;\n            background:  linear-gradient(90deg,#fed766 54.5%, transparent 54.5%);\n            background-color:  white;\n            color:  black;\n        }</style><table id=\"T_fd18b_\" style='display:inline'><thead>    <tr>        <th class=\"blank level0\" ></th>        <th class=\"col_heading level0 col0\" >Features</th>        <th class=\"col_heading level0 col1\" >count</th>        <th class=\"col_heading level0 col2\" >mean</th>        <th class=\"col_heading level0 col3\" >std</th>        <th class=\"col_heading level0 col4\" >min</th>        <th class=\"col_heading level0 col5\" >25%</th>        <th class=\"col_heading level0 col6\" >50%</th>        <th class=\"col_heading level0 col7\" >75%</th>        <th class=\"col_heading level0 col8\" >max</th>    </tr></thead><tbody>\n                <tr>\n                        <th id=\"T_fd18b_level0_row0\" class=\"row_heading level0 row0\" >0</th>\n                        <td id=\"T_fd18b_row0_col0\" class=\"data row0 col0\" >RADIUS_MEAN</td>\n                        <td id=\"T_fd18b_row0_col1\" class=\"data row0 col1\" >569</td>\n                        <td id=\"T_fd18b_row0_col2\" class=\"data row0 col2\" >              14.063</td>\n                        <td id=\"T_fd18b_row0_col3\" class=\"data row0 col3\" >               3.340</td>\n                        <td id=\"T_fd18b_row0_col4\" class=\"data row0 col4\" >               6.981</td>\n                        <td id=\"T_fd18b_row0_col5\" class=\"data row0 col5\" >              11.700</td>\n                        <td id=\"T_fd18b_row0_col6\" class=\"data row0 col6\" >              13.370</td>\n                        <td id=\"T_fd18b_row0_col7\" class=\"data row0 col7\" >              15.780</td>\n                        <td id=\"T_fd18b_row0_col8\" class=\"data row0 col8\" >              21.900</td>\n            </tr>\n            <tr>\n                        <th id=\"T_fd18b_level0_row1\" class=\"row_heading level0 row1\" >1</th>\n                        <td id=\"T_fd18b_row1_col0\" class=\"data row1 col0\" >TEXTURE_MEAN</td>\n                        <td id=\"T_fd18b_row1_col1\" class=\"data row1 col1\" >569</td>\n                        <td id=\"T_fd18b_row1_col2\" class=\"data row1 col2\" >              19.255</td>\n                        <td id=\"T_fd18b_row1_col3\" class=\"data row1 col3\" >               4.188</td>\n                        <td id=\"T_fd18b_row1_col4\" class=\"data row1 col4\" >               9.710</td>\n                        <td id=\"T_fd18b_row1_col5\" class=\"data row1 col5\" >              16.170</td>\n                        <td id=\"T_fd18b_row1_col6\" class=\"data row1 col6\" >              18.840</td>\n                        <td id=\"T_fd18b_row1_col7\" class=\"data row1 col7\" >              21.800</td>\n                        <td id=\"T_fd18b_row1_col8\" class=\"data row1 col8\" >              30.245</td>\n            </tr>\n            <tr>\n                        <th id=\"T_fd18b_level0_row2\" class=\"row_heading level0 row2\" >2</th>\n                        <td id=\"T_fd18b_row2_col0\" class=\"data row2 col0\" >PERIMETER_MEAN</td>\n                        <td id=\"T_fd18b_row2_col1\" class=\"data row2 col1\" >569</td>\n                        <td id=\"T_fd18b_row2_col2\" class=\"data row2 col2\" >              91.544</td>\n                        <td id=\"T_fd18b_row2_col3\" class=\"data row2 col3\" >              23.047</td>\n                        <td id=\"T_fd18b_row2_col4\" class=\"data row2 col4\" >              43.790</td>\n                        <td id=\"T_fd18b_row2_col5\" class=\"data row2 col5\" >              75.170</td>\n                        <td id=\"T_fd18b_row2_col6\" class=\"data row2 col6\" >              86.240</td>\n                        <td id=\"T_fd18b_row2_col7\" class=\"data row2 col7\" >             104.100</td>\n                        <td id=\"T_fd18b_row2_col8\" class=\"data row2 col8\" >             147.495</td>\n            </tr>\n            <tr>\n                        <th id=\"T_fd18b_level0_row3\" class=\"row_heading level0 row3\" >3</th>\n                        <td id=\"T_fd18b_row3_col0\" class=\"data row3 col0\" >AREA_MEAN</td>\n                        <td id=\"T_fd18b_row3_col1\" class=\"data row3 col1\" >569</td>\n                        <td id=\"T_fd18b_row3_col2\" class=\"data row3 col2\" >             639.765</td>\n                        <td id=\"T_fd18b_row3_col3\" class=\"data row3 col3\" >             305.344</td>\n                        <td id=\"T_fd18b_row3_col4\" class=\"data row3 col4\" >             143.500</td>\n                        <td id=\"T_fd18b_row3_col5\" class=\"data row3 col5\" >             420.300</td>\n                        <td id=\"T_fd18b_row3_col6\" class=\"data row3 col6\" >             551.100</td>\n                        <td id=\"T_fd18b_row3_col7\" class=\"data row3 col7\" >             782.700</td>\n                        <td id=\"T_fd18b_row3_col8\" class=\"data row3 col8\" >           1,326.300</td>\n            </tr>\n            <tr>\n                        <th id=\"T_fd18b_level0_row4\" class=\"row_heading level0 row4\" >4</th>\n                        <td id=\"T_fd18b_row4_col0\" class=\"data row4 col0\" >SMOOTHNESS_MEAN</td>\n                        <td id=\"T_fd18b_row4_col1\" class=\"data row4 col1\" >569</td>\n                        <td id=\"T_fd18b_row4_col2\" class=\"data row4 col2\" >               0.096</td>\n                        <td id=\"T_fd18b_row4_col3\" class=\"data row4 col3\" >               0.014</td>\n                        <td id=\"T_fd18b_row4_col4\" class=\"data row4 col4\" >               0.058</td>\n                        <td id=\"T_fd18b_row4_col5\" class=\"data row4 col5\" >               0.086</td>\n                        <td id=\"T_fd18b_row4_col6\" class=\"data row4 col6\" >               0.096</td>\n                        <td id=\"T_fd18b_row4_col7\" class=\"data row4 col7\" >               0.105</td>\n                        <td id=\"T_fd18b_row4_col8\" class=\"data row4 col8\" >               0.134</td>\n            </tr>\n            <tr>\n                        <th id=\"T_fd18b_level0_row5\" class=\"row_heading level0 row5\" >5</th>\n                        <td id=\"T_fd18b_row5_col0\" class=\"data row5 col0\" >COMPACTNESS_MEAN</td>\n                        <td id=\"T_fd18b_row5_col1\" class=\"data row5 col1\" >569</td>\n                        <td id=\"T_fd18b_row5_col2\" class=\"data row5 col2\" >               0.103</td>\n                        <td id=\"T_fd18b_row5_col3\" class=\"data row5 col3\" >               0.049</td>\n                        <td id=\"T_fd18b_row5_col4\" class=\"data row5 col4\" >               0.019</td>\n                        <td id=\"T_fd18b_row5_col5\" class=\"data row5 col5\" >               0.065</td>\n                        <td id=\"T_fd18b_row5_col6\" class=\"data row5 col6\" >               0.093</td>\n                        <td id=\"T_fd18b_row5_col7\" class=\"data row5 col7\" >               0.130</td>\n                        <td id=\"T_fd18b_row5_col8\" class=\"data row5 col8\" >               0.229</td>\n            </tr>\n            <tr>\n                        <th id=\"T_fd18b_level0_row6\" class=\"row_heading level0 row6\" >6</th>\n                        <td id=\"T_fd18b_row6_col0\" class=\"data row6 col0\" >CONCAVITY_MEAN</td>\n                        <td id=\"T_fd18b_row6_col1\" class=\"data row6 col1\" >569</td>\n                        <td id=\"T_fd18b_row6_col2\" class=\"data row6 col2\" >               0.087</td>\n                        <td id=\"T_fd18b_row6_col3\" class=\"data row6 col3\" >               0.074</td>\n                        <td id=\"T_fd18b_row6_col4\" class=\"data row6 col4\" >               0.000</td>\n                        <td id=\"T_fd18b_row6_col5\" class=\"data row6 col5\" >               0.030</td>\n                        <td id=\"T_fd18b_row6_col6\" class=\"data row6 col6\" >               0.062</td>\n                        <td id=\"T_fd18b_row6_col7\" class=\"data row6 col7\" >               0.131</td>\n                        <td id=\"T_fd18b_row6_col8\" class=\"data row6 col8\" >               0.282</td>\n            </tr>\n            <tr>\n                        <th id=\"T_fd18b_level0_row7\" class=\"row_heading level0 row7\" >7</th>\n                        <td id=\"T_fd18b_row7_col0\" class=\"data row7 col0\" >CONCAVE POINTS_MEAN</td>\n                        <td id=\"T_fd18b_row7_col1\" class=\"data row7 col1\" >569</td>\n                        <td id=\"T_fd18b_row7_col2\" class=\"data row7 col2\" >               0.049</td>\n                        <td id=\"T_fd18b_row7_col3\" class=\"data row7 col3\" >               0.038</td>\n                        <td id=\"T_fd18b_row7_col4\" class=\"data row7 col4\" >               0.000</td>\n                        <td id=\"T_fd18b_row7_col5\" class=\"data row7 col5\" >               0.020</td>\n                        <td id=\"T_fd18b_row7_col6\" class=\"data row7 col6\" >               0.034</td>\n                        <td id=\"T_fd18b_row7_col7\" class=\"data row7 col7\" >               0.074</td>\n                        <td id=\"T_fd18b_row7_col8\" class=\"data row7 col8\" >               0.155</td>\n            </tr>\n            <tr>\n                        <th id=\"T_fd18b_level0_row8\" class=\"row_heading level0 row8\" >8</th>\n                        <td id=\"T_fd18b_row8_col0\" class=\"data row8 col0\" >SYMMETRY_MEAN</td>\n                        <td id=\"T_fd18b_row8_col1\" class=\"data row8 col1\" >569</td>\n                        <td id=\"T_fd18b_row8_col2\" class=\"data row8 col2\" >               0.181</td>\n                        <td id=\"T_fd18b_row8_col3\" class=\"data row8 col3\" >               0.026</td>\n                        <td id=\"T_fd18b_row8_col4\" class=\"data row8 col4\" >               0.111</td>\n                        <td id=\"T_fd18b_row8_col5\" class=\"data row8 col5\" >               0.162</td>\n                        <td id=\"T_fd18b_row8_col6\" class=\"data row8 col6\" >               0.179</td>\n                        <td id=\"T_fd18b_row8_col7\" class=\"data row8 col7\" >               0.196</td>\n                        <td id=\"T_fd18b_row8_col8\" class=\"data row8 col8\" >               0.246</td>\n            </tr>\n            <tr>\n                        <th id=\"T_fd18b_level0_row9\" class=\"row_heading level0 row9\" >9</th>\n                        <td id=\"T_fd18b_row9_col0\" class=\"data row9 col0\" >FRACTAL_DIMENSION_MEAN</td>\n                        <td id=\"T_fd18b_row9_col1\" class=\"data row9 col1\" >569</td>\n                        <td id=\"T_fd18b_row9_col2\" class=\"data row9 col2\" >               0.063</td>\n                        <td id=\"T_fd18b_row9_col3\" class=\"data row9 col3\" >               0.006</td>\n                        <td id=\"T_fd18b_row9_col4\" class=\"data row9 col4\" >               0.050</td>\n                        <td id=\"T_fd18b_row9_col5\" class=\"data row9 col5\" >               0.058</td>\n                        <td id=\"T_fd18b_row9_col6\" class=\"data row9 col6\" >               0.062</td>\n                        <td id=\"T_fd18b_row9_col7\" class=\"data row9 col7\" >               0.066</td>\n                        <td id=\"T_fd18b_row9_col8\" class=\"data row9 col8\" >               0.079</td>\n            </tr>\n            <tr>\n                        <th id=\"T_fd18b_level0_row10\" class=\"row_heading level0 row10\" >10</th>\n                        <td id=\"T_fd18b_row10_col0\" class=\"data row10 col0\" >RADIUS_SE</td>\n                        <td id=\"T_fd18b_row10_col1\" class=\"data row10 col1\" >569</td>\n                        <td id=\"T_fd18b_row10_col2\" class=\"data row10 col2\" >               0.385</td>\n                        <td id=\"T_fd18b_row10_col3\" class=\"data row10 col3\" >               0.204</td>\n                        <td id=\"T_fd18b_row10_col4\" class=\"data row10 col4\" >               0.112</td>\n                        <td id=\"T_fd18b_row10_col5\" class=\"data row10 col5\" >               0.232</td>\n                        <td id=\"T_fd18b_row10_col6\" class=\"data row10 col6\" >               0.324</td>\n                        <td id=\"T_fd18b_row10_col7\" class=\"data row10 col7\" >               0.479</td>\n                        <td id=\"T_fd18b_row10_col8\" class=\"data row10 col8\" >               0.849</td>\n            </tr>\n            <tr>\n                        <th id=\"T_fd18b_level0_row11\" class=\"row_heading level0 row11\" >11</th>\n                        <td id=\"T_fd18b_row11_col0\" class=\"data row11 col0\" >TEXTURE_SE</td>\n                        <td id=\"T_fd18b_row11_col1\" class=\"data row11 col1\" >569</td>\n                        <td id=\"T_fd18b_row11_col2\" class=\"data row11 col2\" >               1.198</td>\n                        <td id=\"T_fd18b_row11_col3\" class=\"data row11 col3\" >               0.485</td>\n                        <td id=\"T_fd18b_row11_col4\" class=\"data row11 col4\" >               0.360</td>\n                        <td id=\"T_fd18b_row11_col5\" class=\"data row11 col5\" >               0.834</td>\n                        <td id=\"T_fd18b_row11_col6\" class=\"data row11 col6\" >               1.108</td>\n                        <td id=\"T_fd18b_row11_col7\" class=\"data row11 col7\" >               1.474</td>\n                        <td id=\"T_fd18b_row11_col8\" class=\"data row11 col8\" >               2.434</td>\n            </tr>\n            <tr>\n                        <th id=\"T_fd18b_level0_row12\" class=\"row_heading level0 row12\" >12</th>\n                        <td id=\"T_fd18b_row12_col0\" class=\"data row12 col0\" >PERIMETER_SE</td>\n                        <td id=\"T_fd18b_row12_col1\" class=\"data row12 col1\" >569</td>\n                        <td id=\"T_fd18b_row12_col2\" class=\"data row12 col2\" >               2.699</td>\n                        <td id=\"T_fd18b_row12_col3\" class=\"data row12 col3\" >               1.403</td>\n                        <td id=\"T_fd18b_row12_col4\" class=\"data row12 col4\" >               0.757</td>\n                        <td id=\"T_fd18b_row12_col5\" class=\"data row12 col5\" >               1.606</td>\n                        <td id=\"T_fd18b_row12_col6\" class=\"data row12 col6\" >               2.287</td>\n                        <td id=\"T_fd18b_row12_col7\" class=\"data row12 col7\" >               3.357</td>\n                        <td id=\"T_fd18b_row12_col8\" class=\"data row12 col8\" >               5.984</td>\n            </tr>\n            <tr>\n                        <th id=\"T_fd18b_level0_row13\" class=\"row_heading level0 row13\" >13</th>\n                        <td id=\"T_fd18b_row13_col0\" class=\"data row13 col0\" >AREA_SE</td>\n                        <td id=\"T_fd18b_row13_col1\" class=\"data row13 col1\" >569</td>\n                        <td id=\"T_fd18b_row13_col2\" class=\"data row13 col2\" >              34.959</td>\n                        <td id=\"T_fd18b_row13_col3\" class=\"data row13 col3\" >              24.295</td>\n                        <td id=\"T_fd18b_row13_col4\" class=\"data row13 col4\" >               6.802</td>\n                        <td id=\"T_fd18b_row13_col5\" class=\"data row13 col5\" >              17.850</td>\n                        <td id=\"T_fd18b_row13_col6\" class=\"data row13 col6\" >              24.530</td>\n                        <td id=\"T_fd18b_row13_col7\" class=\"data row13 col7\" >              45.190</td>\n                        <td id=\"T_fd18b_row13_col8\" class=\"data row13 col8\" >              86.200</td>\n            </tr>\n            <tr>\n                        <th id=\"T_fd18b_level0_row14\" class=\"row_heading level0 row14\" >14</th>\n                        <td id=\"T_fd18b_row14_col0\" class=\"data row14 col0\" >SMOOTHNESS_SE</td>\n                        <td id=\"T_fd18b_row14_col1\" class=\"data row14 col1\" >569</td>\n                        <td id=\"T_fd18b_row14_col2\" class=\"data row14 col2\" >               0.007</td>\n                        <td id=\"T_fd18b_row14_col3\" class=\"data row14 col3\" >               0.002</td>\n                        <td id=\"T_fd18b_row14_col4\" class=\"data row14 col4\" >               0.002</td>\n                        <td id=\"T_fd18b_row14_col5\" class=\"data row14 col5\" >               0.005</td>\n                        <td id=\"T_fd18b_row14_col6\" class=\"data row14 col6\" >               0.006</td>\n                        <td id=\"T_fd18b_row14_col7\" class=\"data row14 col7\" >               0.008</td>\n                        <td id=\"T_fd18b_row14_col8\" class=\"data row14 col8\" >               0.013</td>\n            </tr>\n            <tr>\n                        <th id=\"T_fd18b_level0_row15\" class=\"row_heading level0 row15\" >15</th>\n                        <td id=\"T_fd18b_row15_col0\" class=\"data row15 col0\" >COMPACTNESS_SE</td>\n                        <td id=\"T_fd18b_row15_col1\" class=\"data row15 col1\" >569</td>\n                        <td id=\"T_fd18b_row15_col2\" class=\"data row15 col2\" >               0.025</td>\n                        <td id=\"T_fd18b_row15_col3\" class=\"data row15 col3\" >               0.015</td>\n                        <td id=\"T_fd18b_row15_col4\" class=\"data row15 col4\" >               0.002</td>\n                        <td id=\"T_fd18b_row15_col5\" class=\"data row15 col5\" >               0.013</td>\n                        <td id=\"T_fd18b_row15_col6\" class=\"data row15 col6\" >               0.020</td>\n                        <td id=\"T_fd18b_row15_col7\" class=\"data row15 col7\" >               0.032</td>\n                        <td id=\"T_fd18b_row15_col8\" class=\"data row15 col8\" >               0.062</td>\n            </tr>\n            <tr>\n                        <th id=\"T_fd18b_level0_row16\" class=\"row_heading level0 row16\" >16</th>\n                        <td id=\"T_fd18b_row16_col0\" class=\"data row16 col0\" >CONCAVITY_SE</td>\n                        <td id=\"T_fd18b_row16_col1\" class=\"data row16 col1\" >569</td>\n                        <td id=\"T_fd18b_row16_col2\" class=\"data row16 col2\" >               0.030</td>\n                        <td id=\"T_fd18b_row16_col3\" class=\"data row16 col3\" >               0.021</td>\n                        <td id=\"T_fd18b_row16_col4\" class=\"data row16 col4\" >               0.000</td>\n                        <td id=\"T_fd18b_row16_col5\" class=\"data row16 col5\" >               0.015</td>\n                        <td id=\"T_fd18b_row16_col6\" class=\"data row16 col6\" >               0.026</td>\n                        <td id=\"T_fd18b_row16_col7\" class=\"data row16 col7\" >               0.042</td>\n                        <td id=\"T_fd18b_row16_col8\" class=\"data row16 col8\" >               0.082</td>\n            </tr>\n            <tr>\n                        <th id=\"T_fd18b_level0_row17\" class=\"row_heading level0 row17\" >17</th>\n                        <td id=\"T_fd18b_row17_col0\" class=\"data row17 col0\" >CONCAVE POINTS_SE</td>\n                        <td id=\"T_fd18b_row17_col1\" class=\"data row17 col1\" >569</td>\n                        <td id=\"T_fd18b_row17_col2\" class=\"data row17 col2\" >               0.012</td>\n                        <td id=\"T_fd18b_row17_col3\" class=\"data row17 col3\" >               0.005</td>\n                        <td id=\"T_fd18b_row17_col4\" class=\"data row17 col4\" >               0.000</td>\n                        <td id=\"T_fd18b_row17_col5\" class=\"data row17 col5\" >               0.008</td>\n                        <td id=\"T_fd18b_row17_col6\" class=\"data row17 col6\" >               0.011</td>\n                        <td id=\"T_fd18b_row17_col7\" class=\"data row17 col7\" >               0.015</td>\n                        <td id=\"T_fd18b_row17_col8\" class=\"data row17 col8\" >               0.025</td>\n            </tr>\n            <tr>\n                        <th id=\"T_fd18b_level0_row18\" class=\"row_heading level0 row18\" >18</th>\n                        <td id=\"T_fd18b_row18_col0\" class=\"data row18 col0\" >SYMMETRY_SE</td>\n                        <td id=\"T_fd18b_row18_col1\" class=\"data row18 col1\" >569</td>\n                        <td id=\"T_fd18b_row18_col2\" class=\"data row18 col2\" >               0.020</td>\n                        <td id=\"T_fd18b_row18_col3\" class=\"data row18 col3\" >               0.007</td>\n                        <td id=\"T_fd18b_row18_col4\" class=\"data row18 col4\" >               0.008</td>\n                        <td id=\"T_fd18b_row18_col5\" class=\"data row18 col5\" >               0.015</td>\n                        <td id=\"T_fd18b_row18_col6\" class=\"data row18 col6\" >               0.019</td>\n                        <td id=\"T_fd18b_row18_col7\" class=\"data row18 col7\" >               0.023</td>\n                        <td id=\"T_fd18b_row18_col8\" class=\"data row18 col8\" >               0.036</td>\n            </tr>\n            <tr>\n                        <th id=\"T_fd18b_level0_row19\" class=\"row_heading level0 row19\" >19</th>\n                        <td id=\"T_fd18b_row19_col0\" class=\"data row19 col0\" >FRACTAL_DIMENSION_SE</td>\n                        <td id=\"T_fd18b_row19_col1\" class=\"data row19 col1\" >569</td>\n                        <td id=\"T_fd18b_row19_col2\" class=\"data row19 col2\" >               0.004</td>\n                        <td id=\"T_fd18b_row19_col3\" class=\"data row19 col3\" >               0.002</td>\n                        <td id=\"T_fd18b_row19_col4\" class=\"data row19 col4\" >               0.001</td>\n                        <td id=\"T_fd18b_row19_col5\" class=\"data row19 col5\" >               0.002</td>\n                        <td id=\"T_fd18b_row19_col6\" class=\"data row19 col6\" >               0.003</td>\n                        <td id=\"T_fd18b_row19_col7\" class=\"data row19 col7\" >               0.005</td>\n                        <td id=\"T_fd18b_row19_col8\" class=\"data row19 col8\" >               0.008</td>\n            </tr>\n            <tr>\n                        <th id=\"T_fd18b_level0_row20\" class=\"row_heading level0 row20\" >20</th>\n                        <td id=\"T_fd18b_row20_col0\" class=\"data row20 col0\" >RADIUS_WORST</td>\n                        <td id=\"T_fd18b_row20_col1\" class=\"data row20 col1\" >569</td>\n                        <td id=\"T_fd18b_row20_col2\" class=\"data row20 col2\" >              16.184</td>\n                        <td id=\"T_fd18b_row20_col3\" class=\"data row20 col3\" >               4.587</td>\n                        <td id=\"T_fd18b_row20_col4\" class=\"data row20 col4\" >               7.930</td>\n                        <td id=\"T_fd18b_row20_col5\" class=\"data row20 col5\" >              13.010</td>\n                        <td id=\"T_fd18b_row20_col6\" class=\"data row20 col6\" >              14.970</td>\n                        <td id=\"T_fd18b_row20_col7\" class=\"data row20 col7\" >              18.790</td>\n                        <td id=\"T_fd18b_row20_col8\" class=\"data row20 col8\" >              27.460</td>\n            </tr>\n            <tr>\n                        <th id=\"T_fd18b_level0_row21\" class=\"row_heading level0 row21\" >21</th>\n                        <td id=\"T_fd18b_row21_col0\" class=\"data row21 col0\" >TEXTURE_WORST</td>\n                        <td id=\"T_fd18b_row21_col1\" class=\"data row21 col1\" >569</td>\n                        <td id=\"T_fd18b_row21_col2\" class=\"data row21 col2\" >              25.648</td>\n                        <td id=\"T_fd18b_row21_col3\" class=\"data row21 col3\" >               6.054</td>\n                        <td id=\"T_fd18b_row21_col4\" class=\"data row21 col4\" >              12.020</td>\n                        <td id=\"T_fd18b_row21_col5\" class=\"data row21 col5\" >              21.080</td>\n                        <td id=\"T_fd18b_row21_col6\" class=\"data row21 col6\" >              25.410</td>\n                        <td id=\"T_fd18b_row21_col7\" class=\"data row21 col7\" >              29.720</td>\n                        <td id=\"T_fd18b_row21_col8\" class=\"data row21 col8\" >              42.680</td>\n            </tr>\n            <tr>\n                        <th id=\"T_fd18b_level0_row22\" class=\"row_heading level0 row22\" >22</th>\n                        <td id=\"T_fd18b_row22_col0\" class=\"data row22 col0\" >PERIMETER_WORST</td>\n                        <td id=\"T_fd18b_row22_col1\" class=\"data row22 col1\" >569</td>\n                        <td id=\"T_fd18b_row22_col2\" class=\"data row22 col2\" >             106.705</td>\n                        <td id=\"T_fd18b_row22_col3\" class=\"data row22 col3\" >              31.958</td>\n                        <td id=\"T_fd18b_row22_col4\" class=\"data row22 col4\" >              50.410</td>\n                        <td id=\"T_fd18b_row22_col5\" class=\"data row22 col5\" >              84.110</td>\n                        <td id=\"T_fd18b_row22_col6\" class=\"data row22 col6\" >              97.660</td>\n                        <td id=\"T_fd18b_row22_col7\" class=\"data row22 col7\" >             125.400</td>\n                        <td id=\"T_fd18b_row22_col8\" class=\"data row22 col8\" >             187.335</td>\n            </tr>\n            <tr>\n                        <th id=\"T_fd18b_level0_row23\" class=\"row_heading level0 row23\" >23</th>\n                        <td id=\"T_fd18b_row23_col0\" class=\"data row23 col0\" >AREA_WORST</td>\n                        <td id=\"T_fd18b_row23_col1\" class=\"data row23 col1\" >569</td>\n                        <td id=\"T_fd18b_row23_col2\" class=\"data row23 col2\" >             849.908</td>\n                        <td id=\"T_fd18b_row23_col3\" class=\"data row23 col3\" >             475.645</td>\n                        <td id=\"T_fd18b_row23_col4\" class=\"data row23 col4\" >             185.200</td>\n                        <td id=\"T_fd18b_row23_col5\" class=\"data row23 col5\" >             515.300</td>\n                        <td id=\"T_fd18b_row23_col6\" class=\"data row23 col6\" >             686.500</td>\n                        <td id=\"T_fd18b_row23_col7\" class=\"data row23 col7\" >           1,084.000</td>\n                        <td id=\"T_fd18b_row23_col8\" class=\"data row23 col8\" >           1,937.050</td>\n            </tr>\n            <tr>\n                        <th id=\"T_fd18b_level0_row24\" class=\"row_heading level0 row24\" >24</th>\n                        <td id=\"T_fd18b_row24_col0\" class=\"data row24 col0\" >SMOOTHNESS_WORST</td>\n                        <td id=\"T_fd18b_row24_col1\" class=\"data row24 col1\" >569</td>\n                        <td id=\"T_fd18b_row24_col2\" class=\"data row24 col2\" >               0.132</td>\n                        <td id=\"T_fd18b_row24_col3\" class=\"data row24 col3\" >               0.022</td>\n                        <td id=\"T_fd18b_row24_col4\" class=\"data row24 col4\" >               0.073</td>\n                        <td id=\"T_fd18b_row24_col5\" class=\"data row24 col5\" >               0.117</td>\n                        <td id=\"T_fd18b_row24_col6\" class=\"data row24 col6\" >               0.131</td>\n                        <td id=\"T_fd18b_row24_col7\" class=\"data row24 col7\" >               0.146</td>\n                        <td id=\"T_fd18b_row24_col8\" class=\"data row24 col8\" >               0.190</td>\n            </tr>\n            <tr>\n                        <th id=\"T_fd18b_level0_row25\" class=\"row_heading level0 row25\" >25</th>\n                        <td id=\"T_fd18b_row25_col0\" class=\"data row25 col0\" >COMPACTNESS_WORST</td>\n                        <td id=\"T_fd18b_row25_col1\" class=\"data row25 col1\" >569</td>\n                        <td id=\"T_fd18b_row25_col2\" class=\"data row25 col2\" >               0.250</td>\n                        <td id=\"T_fd18b_row25_col3\" class=\"data row25 col3\" >               0.143</td>\n                        <td id=\"T_fd18b_row25_col4\" class=\"data row25 col4\" >               0.027</td>\n                        <td id=\"T_fd18b_row25_col5\" class=\"data row25 col5\" >               0.147</td>\n                        <td id=\"T_fd18b_row25_col6\" class=\"data row25 col6\" >               0.212</td>\n                        <td id=\"T_fd18b_row25_col7\" class=\"data row25 col7\" >               0.339</td>\n                        <td id=\"T_fd18b_row25_col8\" class=\"data row25 col8\" >               0.627</td>\n            </tr>\n            <tr>\n                        <th id=\"T_fd18b_level0_row26\" class=\"row_heading level0 row26\" >26</th>\n                        <td id=\"T_fd18b_row26_col0\" class=\"data row26 col0\" >CONCAVITY_WORST</td>\n                        <td id=\"T_fd18b_row26_col1\" class=\"data row26 col1\" >569</td>\n                        <td id=\"T_fd18b_row26_col2\" class=\"data row26 col2\" >               0.269</td>\n                        <td id=\"T_fd18b_row26_col3\" class=\"data row26 col3\" >               0.197</td>\n                        <td id=\"T_fd18b_row26_col4\" class=\"data row26 col4\" >               0.000</td>\n                        <td id=\"T_fd18b_row26_col5\" class=\"data row26 col5\" >               0.115</td>\n                        <td id=\"T_fd18b_row26_col6\" class=\"data row26 col6\" >               0.227</td>\n                        <td id=\"T_fd18b_row26_col7\" class=\"data row26 col7\" >               0.383</td>\n                        <td id=\"T_fd18b_row26_col8\" class=\"data row26 col8\" >               0.786</td>\n            </tr>\n            <tr>\n                        <th id=\"T_fd18b_level0_row27\" class=\"row_heading level0 row27\" >27</th>\n                        <td id=\"T_fd18b_row27_col0\" class=\"data row27 col0\" >CONCAVE POINTS_WORST</td>\n                        <td id=\"T_fd18b_row27_col1\" class=\"data row27 col1\" >569</td>\n                        <td id=\"T_fd18b_row27_col2\" class=\"data row27 col2\" >               0.115</td>\n                        <td id=\"T_fd18b_row27_col3\" class=\"data row27 col3\" >               0.066</td>\n                        <td id=\"T_fd18b_row27_col4\" class=\"data row27 col4\" >               0.000</td>\n                        <td id=\"T_fd18b_row27_col5\" class=\"data row27 col5\" >               0.065</td>\n                        <td id=\"T_fd18b_row27_col6\" class=\"data row27 col6\" >               0.100</td>\n                        <td id=\"T_fd18b_row27_col7\" class=\"data row27 col7\" >               0.161</td>\n                        <td id=\"T_fd18b_row27_col8\" class=\"data row27 col8\" >               0.291</td>\n            </tr>\n            <tr>\n                        <th id=\"T_fd18b_level0_row28\" class=\"row_heading level0 row28\" >28</th>\n                        <td id=\"T_fd18b_row28_col0\" class=\"data row28 col0\" >SYMMETRY_WORST</td>\n                        <td id=\"T_fd18b_row28_col1\" class=\"data row28 col1\" >569</td>\n                        <td id=\"T_fd18b_row28_col2\" class=\"data row28 col2\" >               0.288</td>\n                        <td id=\"T_fd18b_row28_col3\" class=\"data row28 col3\" >               0.054</td>\n                        <td id=\"T_fd18b_row28_col4\" class=\"data row28 col4\" >               0.157</td>\n                        <td id=\"T_fd18b_row28_col5\" class=\"data row28 col5\" >               0.250</td>\n                        <td id=\"T_fd18b_row28_col6\" class=\"data row28 col6\" >               0.282</td>\n                        <td id=\"T_fd18b_row28_col7\" class=\"data row28 col7\" >               0.318</td>\n                        <td id=\"T_fd18b_row28_col8\" class=\"data row28 col8\" >               0.419</td>\n            </tr>\n            <tr>\n                        <th id=\"T_fd18b_level0_row29\" class=\"row_heading level0 row29\" >29</th>\n                        <td id=\"T_fd18b_row29_col0\" class=\"data row29 col0\" >FRACTAL_DIMENSION_WORST</td>\n                        <td id=\"T_fd18b_row29_col1\" class=\"data row29 col1\" >569</td>\n                        <td id=\"T_fd18b_row29_col2\" class=\"data row29 col2\" >               0.083</td>\n                        <td id=\"T_fd18b_row29_col3\" class=\"data row29 col3\" >               0.016</td>\n                        <td id=\"T_fd18b_row29_col4\" class=\"data row29 col4\" >               0.055</td>\n                        <td id=\"T_fd18b_row29_col5\" class=\"data row29 col5\" >               0.071</td>\n                        <td id=\"T_fd18b_row29_col6\" class=\"data row29 col6\" >               0.080</td>\n                        <td id=\"T_fd18b_row29_col7\" class=\"data row29 col7\" >               0.092</td>\n                        <td id=\"T_fd18b_row29_col8\" class=\"data row29 col8\" >               0.123</td>\n            </tr>\n    </tbody></table>"
     },
     "metadata": {},
     "output_type": "display_data"
    }
   ],
   "source": [
    "colors= ['#fe4a49' ,'#2ab7ca' ,'#fed766' ,'#e6e6ea' ,'#f4f4f8']\n",
    "stats_df = df.drop(columns  = ['id']).describe().T.reset_index().rename(columns = {'index':'Features'})\n",
    "stats_df['count'] = stats_df['count'].astype(int)\n",
    "\n",
    "\n",
    "style = stats_df.style.set_table_attributes(\"style='display:inline'\").\\\n",
    "                                bar(subset = ['min', '25%','50%','75%', 'max', 'mean'],axis = 1 ,color = colors[2])\\\n",
    "                                .format({\n",
    "                                         'mean':\"{:20,.3f}\", \n",
    "                                         'std':\"{:20,.3f}\", \n",
    "                                         'min':\"{:20,.3f}\", \n",
    "                                         '25%':\"{:20,.3f}\",\n",
    "                                         '50%':\"{:20,.3f}\",\n",
    "                                         '75%':\"{:20,.3f}\", \n",
    "                                         'max':\"{:20,.3f}\"})\\\n",
    "                                .format({\"Features\": lambda x:  x.upper()},\n",
    "                                 )\\\n",
    "                                .set_properties(**{'background-color': 'white',                                                   \n",
    "                                    'color': 'black'})\n",
    "print('''\\n Descriptive Statistics of The Dataset \\n''')\n",
    "\n",
    "display_html(style._repr_html_(), raw=True)"
   ]
  },
  {
   "cell_type": "markdown",
   "metadata": {},
   "source": [
    "### Outliers\n"
   ]
  },
  {
   "cell_type": "code",
   "execution_count": null,
   "metadata": {},
   "outputs": [],
   "source": [
    "Benign, Malignant = df['diagnosis'].value_counts()\n",
    "print(f\"Number of Benign is {Benign}\")\n",
    "print(f\"Number of Malignant is {Malignant}\")\n",
    "vs.plot_count(df, 'diagnosis', \"Diagnosis\", \"Diagnosis Count\")\n"
   ]
  },
  {
   "cell_type": "markdown",
   "metadata": {},
   "source": [
    "- Number of Benign is 357\n",
    "- Number of Malignant is 212"
   ]
  },
  {
   "cell_type": "code",
   "execution_count": null,
   "metadata": {},
   "outputs": [],
   "source": [
    "y = df.diagnosis # M or B\n",
    "x = df.drop(['id', 'diagnosis'], axis=1)"
   ]
  },
  {
   "cell_type": "markdown",
   "metadata": {},
   "source": [
    "Before violin and swarm plot we need to normalization or standirdization. Because differences between values of features are very high to observe on plot. I plot features in 3 group and each group includes 10 features to observe better."
   ]
  },
  {
   "cell_type": "code",
   "execution_count": null,
   "metadata": {},
   "outputs": [],
   "source": [
    "normal_x = helper.custome_normalizer(x)"
   ]
  },
  {
   "cell_type": "code",
   "execution_count": null,
   "metadata": {},
   "outputs": [],
   "source": [
    "mean_df = normal_x.iloc[:, 0:10]\n",
    "se_df = normal_x.iloc[:, 10:20]\n",
    "worest_df = normal_x.iloc[:, 20:30]\n",
    "\n",
    "print(\"Mean dataframe\")\n",
    "display(mean_df.head())\n",
    "\n",
    "print(\"satandar err dataframe\")\n",
    "display(se_df.head())\n",
    "\n",
    "print(\"Worest dataframe\")\n",
    "display(worest_df.head())\n",
    "\n",
    "# mean_df_dia = mean_df.copy()\n",
    "# mean_df_dia['diagnosis'] = cleaned_df['diagnosis']"
   ]
  },
  {
   "cell_type": "code",
   "execution_count": null,
   "metadata": {},
   "outputs": [],
   "source": [
    "print(\"Describe Mean\")\n",
    "display(mean_df.describe().T)\n",
    "mean_df_dia = mean_df.copy()\n",
    "mean_df_dia['diagnosis'] = y\n",
    "sns.pairplot(mean_df_dia, hue=\"diagnosis\")\n"
   ]
  },
  {
   "cell_type": "code",
   "execution_count": null,
   "metadata": {},
   "outputs": [],
   "source": [
    "print(\"Describe SE\")\n",
    "display(se_df.describe().T)\n",
    "\n",
    "se_df_dia = se_df.copy()\n",
    "se_df_dia['diagnosis'] = y\n",
    "sns.pairplot(se_df_dia, hue=\"diagnosis\")"
   ]
  },
  {
   "cell_type": "code",
   "execution_count": null,
   "metadata": {},
   "outputs": [],
   "source": [
    "print(\"Describe worest\")\n",
    "display(worest_df.describe().T)\n",
    "\n",
    "worest_df_dia = se_df.copy()\n",
    "worest_df_dia['diagnosis'] = y\n",
    "sns.pairplot(worest_df_dia, hue=\"diagnosis\")\n"
   ]
  },
  {
   "cell_type": "code",
   "execution_count": null,
   "metadata": {},
   "outputs": [],
   "source": [
    "def multi_histogram(_df: pd.DataFrame, target_col, target_col_name: str):\n",
    "    ind = 0\n",
    "    cols = _df.columns\n",
    "\n",
    "    fig, axs = plt.subplots(len(cols), figsize=(25,45))\n",
    "    \n",
    "    merged_df = _df.copy()\n",
    "    merged_df[target_col_name] = target_col\n",
    "\n",
    "    for col in cols:    \n",
    "            sns.histplot(merged_df, \n",
    "                         x=col, \n",
    "                         hue=target_col_name, element=\"poly\", \n",
    "                         stat=\"count\", \n",
    "                         palette=[\"#7158e2\", \"#32ff7e\"],\n",
    "                         ax=axs[ind])\n",
    "            ind += 1"
   ]
  },
  {
   "cell_type": "code",
   "execution_count": null,
   "metadata": {},
   "outputs": [],
   "source": [
    "multi_histogram(mean_df, y, \"diagnosis\")"
   ]
  },
  {
   "cell_type": "code",
   "execution_count": null,
   "metadata": {},
   "outputs": [],
   "source": [
    "multi_histogram(se_df, y, \"diagnosis\", )"
   ]
  },
  {
   "cell_type": "code",
   "execution_count": null,
   "metadata": {},
   "outputs": [],
   "source": [
    "multi_histogram(worest_df, y, \"diagnosis\", )"
   ]
  },
  {
   "cell_type": "code",
   "execution_count": null,
   "metadata": {},
   "outputs": [],
   "source": [
    "vs.violinplot(normal_x, y, 0, 10)\n"
   ]
  },
  {
   "cell_type": "code",
   "execution_count": null,
   "metadata": {},
   "outputs": [],
   "source": [
    "vs.violinplot(normal_x, y, 10, 20)\n"
   ]
  },
  {
   "cell_type": "code",
   "execution_count": null,
   "metadata": {},
   "outputs": [],
   "source": [
    "vs.violinplot(normal_x, y, 21, 30)\n"
   ]
  },
  {
   "cell_type": "code",
   "execution_count": null,
   "metadata": {},
   "outputs": [],
   "source": [
    "\n"
   ]
  },
  {
   "cell_type": "code",
   "execution_count": null,
   "metadata": {},
   "outputs": [],
   "source": [
    "vs.boxplot(normal_x, y, 0, 10)"
   ]
  },
  {
   "cell_type": "code",
   "execution_count": null,
   "metadata": {},
   "outputs": [],
   "source": []
  },
  {
   "cell_type": "code",
   "execution_count": null,
   "metadata": {},
   "outputs": [],
   "source": [
    "vs.swarmplot(normal_x, y, 0, 10)\n"
   ]
  },
  {
   "cell_type": "code",
   "execution_count": null,
   "metadata": {},
   "outputs": [],
   "source": [
    "vs.swarmplot(normal_x, y, 11, 21)\n"
   ]
  },
  {
   "cell_type": "code",
   "execution_count": null,
   "metadata": {},
   "outputs": [],
   "source": [
    "vs.swarmplot(normal_x, y, 21, 30)\n"
   ]
  },
  {
   "cell_type": "code",
   "execution_count": null,
   "metadata": {},
   "outputs": [],
   "source": []
  },
  {
   "cell_type": "code",
   "execution_count": null,
   "metadata": {},
   "outputs": [],
   "source": [
    "vs.plot_correlation(x)\n"
   ]
  },
  {
   "cell_type": "code",
   "execution_count": null,
   "metadata": {},
   "outputs": [],
   "source": []
  },
  {
   "cell_type": "code",
   "execution_count": null,
   "metadata": {},
   "outputs": [],
   "source": [
    "vs.pairplot(x, y, ['radius_worst', 'texture_worst',\n",
    "         'perimeter_worst', 'area_worst'])\n"
   ]
  },
  {
   "cell_type": "code",
   "execution_count": null,
   "metadata": {},
   "outputs": [],
   "source": [
    "# Getting Mean Columns with diagnosis\n",
    "m_col = ['diagnosis', 'radius_mean', 'texture_mean', 'perimeter_mean',\n",
    "         'area_mean', 'smoothness_mean', 'compactness_mean', 'concavity_mean',\n",
    "         'concave points_mean', 'symmetry_mean', 'fractal_dimension_mean']\n",
    "\n",
    "# Getting Se Columns with diagnosis\n",
    "s_col = ['diagnosis', 'radius_se', 'texture_se', 'perimeter_se', 'area_se', 'smoothness_se',\n",
    "         'compactness_se', 'concavity_se', 'concave points_se', 'symmetry_se',\n",
    "         'fractal_dimension_se']\n",
    "\n",
    "# Getting Worst column with diagnosis\n",
    "w_col = ['diagnosis', 'radius_worst', 'texture_worst',\n",
    "         'perimeter_worst', 'area_worst', 'smoothness_worst',\n",
    "         'compactness_worst', 'concavity_worst', 'concave points_worst',\n",
    "         'symmetry_worst', 'fractal_dimension_worst']"
   ]
  }
 ],
 "metadata": {
  "interpreter": {
   "hash": "1a61c0945fcaca021580664227e6bb3809d9f3fe70b572abf2d42b174fb44a3e"
  },
  "kernelspec": {
   "display_name": "Python 3.8.5 64-bit ('base': conda)",
   "name": "python385jvsc74a57bd0c30745a67ab3077685183c6616f760120387d2e186c7e6a99675e86d34cdfa12"
  },
  "language_info": {
   "codemirror_mode": {
    "name": "ipython",
    "version": 3
   },
   "file_extension": ".py",
   "mimetype": "text/x-python",
   "name": "python",
   "nbconvert_exporter": "python",
   "pygments_lexer": "ipython3",
   "version": "3.8.5"
  }
 },
 "nbformat": 4,
 "nbformat_minor": 2
}