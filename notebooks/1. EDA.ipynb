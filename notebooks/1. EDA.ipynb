{
 "cells": [
  {
   "cell_type": "markdown",
   "metadata": {},
   "source": [
    "# Exploratory Data Analysis"
   ]
  },
  {
   "cell_type": "markdown",
   "metadata": {},
   "source": [
    "## Imports"
   ]
  },
  {
   "cell_type": "code",
   "execution_count": 1,
   "metadata": {},
   "outputs": [],
   "source": [
    "import warnings\n",
    "import numpy as np\n",
    "import pandas as pd\n",
    "import seaborn as sns\n",
    "import matplotlib.pyplot as plt\n",
    "from IPython.display import Markdown, display, Image\n",
    "import sys\n",
    "import os"
   ]
  },
  {
   "cell_type": "code",
   "execution_count": 2,
   "metadata": {},
   "outputs": [],
   "source": [
    "sns.set()\n",
    "%matplotlib inline\n",
    "warnings.filterwarnings(\"ignore\")\n",
    "pd.set_option('display.max_columns', None)\n",
    "pd.set_option('display.max_colwidth', None)\n",
    "pd.set_option(\"expand_frame_repr\", False)\n",
    "pd.set_option('display.float_format', '{:.2f}'.format)"
   ]
  },
  {
   "cell_type": "code",
   "execution_count": 3,
   "metadata": {},
   "outputs": [],
   "source": [
    "sys.path.append(os.path.abspath(os.path.join('../scripts')))"
   ]
  },
  {
   "cell_type": "code",
   "execution_count": 12,
   "metadata": {},
   "outputs": [],
   "source": [
    "from df_overview import DfOverview\n",
    "from df_outlier import DfOutlier\n",
    "from file_handler import FileHandler\n",
    "import vis_seaborn as vs\n",
    "from eda_helper import Helper\n",
    "from df_cleaner import *"
   ]
  },
  {
   "cell_type": "code",
   "execution_count": 5,
   "metadata": {},
   "outputs": [],
   "source": [
    "helper = Helper()"
   ]
  },
  {
   "cell_type": "markdown",
   "metadata": {},
   "source": [
    "## Data"
   ]
  },
  {
   "cell_type": "markdown",
   "metadata": {},
   "source": [
    "Features include:\n",
    "- ID number\n",
    "- Diagnosis(M=malignant, B=benign)\n",
    "- radius(mean of distances from center to points on the perimeter)\n",
    "- texture(standard deviation of gray - scale values)\n",
    "- perimeter\n",
    "- area\n",
    "- smoothness(local variation in radius lengths)\n",
    "- compactness(perimeter ^ 2 / area - 1.0)\n",
    "- concavity(severity of concave portions of the contour)\n",
    "- concave points(number of concave portions of the contour)\n",
    "- symmetry\n",
    "- fractal dimension(\"coastline approximation\" - 1)\n",
    "\n",
    "The mean, standard error and \"worst\" or largest(mean of the three largest values) of these features were computed for each image, resulting in 30 features. For instance, field 3 is Mean Radius, field 13 is Radius SE, field 23 is Worst Radius.All feature values are recoded with four significant digits."
   ]
  },
  {
   "cell_type": "markdown",
   "metadata": {},
   "source": [
    "## Data reading"
   ]
  },
  {
   "cell_type": "code",
   "execution_count": 6,
   "metadata": {},
   "outputs": [],
   "source": [
    "# create a FileHandler object\n",
    "file_handler = FileHandler()"
   ]
  },
  {
   "cell_type": "code",
   "execution_count": 7,
   "metadata": {},
   "outputs": [
    {
     "data": {
      "text/html": "<div>\n<style scoped>\n    .dataframe tbody tr th:only-of-type {\n        vertical-align: middle;\n    }\n\n    .dataframe tbody tr th {\n        vertical-align: top;\n    }\n\n    .dataframe thead th {\n        text-align: right;\n    }\n</style>\n<table border=\"1\" class=\"dataframe\">\n  <thead>\n    <tr style=\"text-align: right;\">\n      <th></th>\n      <th>id</th>\n      <th>diagnosis</th>\n      <th>radius_mean</th>\n      <th>texture_mean</th>\n      <th>perimeter_mean</th>\n      <th>area_mean</th>\n      <th>smoothness_mean</th>\n      <th>compactness_mean</th>\n      <th>concavity_mean</th>\n      <th>concave points_mean</th>\n      <th>symmetry_mean</th>\n      <th>fractal_dimension_mean</th>\n      <th>radius_se</th>\n      <th>texture_se</th>\n      <th>perimeter_se</th>\n      <th>area_se</th>\n      <th>smoothness_se</th>\n      <th>compactness_se</th>\n      <th>concavity_se</th>\n      <th>concave points_se</th>\n      <th>symmetry_se</th>\n      <th>fractal_dimension_se</th>\n      <th>radius_worst</th>\n      <th>texture_worst</th>\n      <th>perimeter_worst</th>\n      <th>area_worst</th>\n      <th>smoothness_worst</th>\n      <th>compactness_worst</th>\n      <th>concavity_worst</th>\n      <th>concave points_worst</th>\n      <th>symmetry_worst</th>\n      <th>fractal_dimension_worst</th>\n      <th>Unnamed: 32</th>\n    </tr>\n  </thead>\n  <tbody>\n    <tr>\n      <th>0</th>\n      <td>842302</td>\n      <td>M</td>\n      <td>17.99</td>\n      <td>10.38</td>\n      <td>122.80</td>\n      <td>1001.00</td>\n      <td>0.12</td>\n      <td>0.28</td>\n      <td>0.30</td>\n      <td>0.15</td>\n      <td>0.24</td>\n      <td>0.08</td>\n      <td>1.09</td>\n      <td>0.91</td>\n      <td>8.59</td>\n      <td>153.40</td>\n      <td>0.01</td>\n      <td>0.05</td>\n      <td>0.05</td>\n      <td>0.02</td>\n      <td>0.03</td>\n      <td>0.01</td>\n      <td>25.38</td>\n      <td>17.33</td>\n      <td>184.60</td>\n      <td>2019.00</td>\n      <td>0.16</td>\n      <td>0.67</td>\n      <td>0.71</td>\n      <td>0.27</td>\n      <td>0.46</td>\n      <td>0.12</td>\n      <td>NaN</td>\n    </tr>\n    <tr>\n      <th>1</th>\n      <td>842517</td>\n      <td>M</td>\n      <td>20.57</td>\n      <td>17.77</td>\n      <td>132.90</td>\n      <td>1326.00</td>\n      <td>0.08</td>\n      <td>0.08</td>\n      <td>0.09</td>\n      <td>0.07</td>\n      <td>0.18</td>\n      <td>0.06</td>\n      <td>0.54</td>\n      <td>0.73</td>\n      <td>3.40</td>\n      <td>74.08</td>\n      <td>0.01</td>\n      <td>0.01</td>\n      <td>0.02</td>\n      <td>0.01</td>\n      <td>0.01</td>\n      <td>0.00</td>\n      <td>24.99</td>\n      <td>23.41</td>\n      <td>158.80</td>\n      <td>1956.00</td>\n      <td>0.12</td>\n      <td>0.19</td>\n      <td>0.24</td>\n      <td>0.19</td>\n      <td>0.28</td>\n      <td>0.09</td>\n      <td>NaN</td>\n    </tr>\n    <tr>\n      <th>2</th>\n      <td>84300903</td>\n      <td>M</td>\n      <td>19.69</td>\n      <td>21.25</td>\n      <td>130.00</td>\n      <td>1203.00</td>\n      <td>0.11</td>\n      <td>0.16</td>\n      <td>0.20</td>\n      <td>0.13</td>\n      <td>0.21</td>\n      <td>0.06</td>\n      <td>0.75</td>\n      <td>0.79</td>\n      <td>4.58</td>\n      <td>94.03</td>\n      <td>0.01</td>\n      <td>0.04</td>\n      <td>0.04</td>\n      <td>0.02</td>\n      <td>0.02</td>\n      <td>0.00</td>\n      <td>23.57</td>\n      <td>25.53</td>\n      <td>152.50</td>\n      <td>1709.00</td>\n      <td>0.14</td>\n      <td>0.42</td>\n      <td>0.45</td>\n      <td>0.24</td>\n      <td>0.36</td>\n      <td>0.09</td>\n      <td>NaN</td>\n    </tr>\n    <tr>\n      <th>3</th>\n      <td>84348301</td>\n      <td>M</td>\n      <td>11.42</td>\n      <td>20.38</td>\n      <td>77.58</td>\n      <td>386.10</td>\n      <td>0.14</td>\n      <td>0.28</td>\n      <td>0.24</td>\n      <td>0.11</td>\n      <td>0.26</td>\n      <td>0.10</td>\n      <td>0.50</td>\n      <td>1.16</td>\n      <td>3.44</td>\n      <td>27.23</td>\n      <td>0.01</td>\n      <td>0.07</td>\n      <td>0.06</td>\n      <td>0.02</td>\n      <td>0.06</td>\n      <td>0.01</td>\n      <td>14.91</td>\n      <td>26.50</td>\n      <td>98.87</td>\n      <td>567.70</td>\n      <td>0.21</td>\n      <td>0.87</td>\n      <td>0.69</td>\n      <td>0.26</td>\n      <td>0.66</td>\n      <td>0.17</td>\n      <td>NaN</td>\n    </tr>\n    <tr>\n      <th>4</th>\n      <td>84358402</td>\n      <td>M</td>\n      <td>20.29</td>\n      <td>14.34</td>\n      <td>135.10</td>\n      <td>1297.00</td>\n      <td>0.10</td>\n      <td>0.13</td>\n      <td>0.20</td>\n      <td>0.10</td>\n      <td>0.18</td>\n      <td>0.06</td>\n      <td>0.76</td>\n      <td>0.78</td>\n      <td>5.44</td>\n      <td>94.44</td>\n      <td>0.01</td>\n      <td>0.02</td>\n      <td>0.06</td>\n      <td>0.02</td>\n      <td>0.02</td>\n      <td>0.01</td>\n      <td>22.54</td>\n      <td>16.67</td>\n      <td>152.20</td>\n      <td>1575.00</td>\n      <td>0.14</td>\n      <td>0.20</td>\n      <td>0.40</td>\n      <td>0.16</td>\n      <td>0.24</td>\n      <td>0.08</td>\n      <td>NaN</td>\n    </tr>\n    <tr>\n      <th>5</th>\n      <td>843786</td>\n      <td>M</td>\n      <td>12.45</td>\n      <td>15.70</td>\n      <td>82.57</td>\n      <td>477.10</td>\n      <td>0.13</td>\n      <td>0.17</td>\n      <td>0.16</td>\n      <td>0.08</td>\n      <td>0.21</td>\n      <td>0.08</td>\n      <td>0.33</td>\n      <td>0.89</td>\n      <td>2.22</td>\n      <td>27.19</td>\n      <td>0.01</td>\n      <td>0.03</td>\n      <td>0.04</td>\n      <td>0.01</td>\n      <td>0.02</td>\n      <td>0.01</td>\n      <td>15.47</td>\n      <td>23.75</td>\n      <td>103.40</td>\n      <td>741.60</td>\n      <td>0.18</td>\n      <td>0.52</td>\n      <td>0.54</td>\n      <td>0.17</td>\n      <td>0.40</td>\n      <td>0.12</td>\n      <td>NaN</td>\n    </tr>\n    <tr>\n      <th>6</th>\n      <td>844359</td>\n      <td>M</td>\n      <td>18.25</td>\n      <td>19.98</td>\n      <td>119.60</td>\n      <td>1040.00</td>\n      <td>0.09</td>\n      <td>0.11</td>\n      <td>0.11</td>\n      <td>0.07</td>\n      <td>0.18</td>\n      <td>0.06</td>\n      <td>0.45</td>\n      <td>0.77</td>\n      <td>3.18</td>\n      <td>53.91</td>\n      <td>0.00</td>\n      <td>0.01</td>\n      <td>0.02</td>\n      <td>0.01</td>\n      <td>0.01</td>\n      <td>0.00</td>\n      <td>22.88</td>\n      <td>27.66</td>\n      <td>153.20</td>\n      <td>1606.00</td>\n      <td>0.14</td>\n      <td>0.26</td>\n      <td>0.38</td>\n      <td>0.19</td>\n      <td>0.31</td>\n      <td>0.08</td>\n      <td>NaN</td>\n    </tr>\n    <tr>\n      <th>7</th>\n      <td>84458202</td>\n      <td>M</td>\n      <td>13.71</td>\n      <td>20.83</td>\n      <td>90.20</td>\n      <td>577.90</td>\n      <td>0.12</td>\n      <td>0.16</td>\n      <td>0.09</td>\n      <td>0.06</td>\n      <td>0.22</td>\n      <td>0.07</td>\n      <td>0.58</td>\n      <td>1.38</td>\n      <td>3.86</td>\n      <td>50.96</td>\n      <td>0.01</td>\n      <td>0.03</td>\n      <td>0.02</td>\n      <td>0.01</td>\n      <td>0.01</td>\n      <td>0.01</td>\n      <td>17.06</td>\n      <td>28.14</td>\n      <td>110.60</td>\n      <td>897.00</td>\n      <td>0.17</td>\n      <td>0.37</td>\n      <td>0.27</td>\n      <td>0.16</td>\n      <td>0.32</td>\n      <td>0.12</td>\n      <td>NaN</td>\n    </tr>\n    <tr>\n      <th>8</th>\n      <td>844981</td>\n      <td>M</td>\n      <td>13.00</td>\n      <td>21.82</td>\n      <td>87.50</td>\n      <td>519.80</td>\n      <td>0.13</td>\n      <td>0.19</td>\n      <td>0.19</td>\n      <td>0.09</td>\n      <td>0.23</td>\n      <td>0.07</td>\n      <td>0.31</td>\n      <td>1.00</td>\n      <td>2.41</td>\n      <td>24.32</td>\n      <td>0.01</td>\n      <td>0.04</td>\n      <td>0.04</td>\n      <td>0.01</td>\n      <td>0.02</td>\n      <td>0.00</td>\n      <td>15.49</td>\n      <td>30.73</td>\n      <td>106.20</td>\n      <td>739.30</td>\n      <td>0.17</td>\n      <td>0.54</td>\n      <td>0.54</td>\n      <td>0.21</td>\n      <td>0.44</td>\n      <td>0.11</td>\n      <td>NaN</td>\n    </tr>\n    <tr>\n      <th>9</th>\n      <td>84501001</td>\n      <td>M</td>\n      <td>12.46</td>\n      <td>24.04</td>\n      <td>83.97</td>\n      <td>475.90</td>\n      <td>0.12</td>\n      <td>0.24</td>\n      <td>0.23</td>\n      <td>0.09</td>\n      <td>0.20</td>\n      <td>0.08</td>\n      <td>0.30</td>\n      <td>1.60</td>\n      <td>2.04</td>\n      <td>23.94</td>\n      <td>0.01</td>\n      <td>0.07</td>\n      <td>0.08</td>\n      <td>0.01</td>\n      <td>0.02</td>\n      <td>0.01</td>\n      <td>15.09</td>\n      <td>40.68</td>\n      <td>97.65</td>\n      <td>711.40</td>\n      <td>0.19</td>\n      <td>1.06</td>\n      <td>1.10</td>\n      <td>0.22</td>\n      <td>0.44</td>\n      <td>0.21</td>\n      <td>NaN</td>\n    </tr>\n  </tbody>\n</table>\n</div>",
      "text/plain": "         id diagnosis  radius_mean  texture_mean  perimeter_mean  area_mean  smoothness_mean  compactness_mean  concavity_mean  concave points_mean  symmetry_mean  fractal_dimension_mean  radius_se  texture_se  perimeter_se  area_se  smoothness_se  compactness_se  concavity_se  concave points_se  symmetry_se  fractal_dimension_se  radius_worst  texture_worst  perimeter_worst  area_worst  smoothness_worst  compactness_worst  concavity_worst  concave points_worst  symmetry_worst  fractal_dimension_worst  Unnamed: 32\n0    842302         M        17.99         10.38          122.80    1001.00             0.12              0.28            0.30                 0.15           0.24                    0.08       1.09        0.91          8.59   153.40           0.01            0.05          0.05               0.02         0.03                  0.01         25.38          17.33           184.60     2019.00              0.16               0.67             0.71                  0.27            0.46                     0.12          NaN\n1    842517         M        20.57         17.77          132.90    1326.00             0.08              0.08            0.09                 0.07           0.18                    0.06       0.54        0.73          3.40    74.08           0.01            0.01          0.02               0.01         0.01                  0.00         24.99          23.41           158.80     1956.00              0.12               0.19             0.24                  0.19            0.28                     0.09          NaN\n2  84300903         M        19.69         21.25          130.00    1203.00             0.11              0.16            0.20                 0.13           0.21                    0.06       0.75        0.79          4.58    94.03           0.01            0.04          0.04               0.02         0.02                  0.00         23.57          25.53           152.50     1709.00              0.14               0.42             0.45                  0.24            0.36                     0.09          NaN\n3  84348301         M        11.42         20.38           77.58     386.10             0.14              0.28            0.24                 0.11           0.26                    0.10       0.50        1.16          3.44    27.23           0.01            0.07          0.06               0.02         0.06                  0.01         14.91          26.50            98.87      567.70              0.21               0.87             0.69                  0.26            0.66                     0.17          NaN\n4  84358402         M        20.29         14.34          135.10    1297.00             0.10              0.13            0.20                 0.10           0.18                    0.06       0.76        0.78          5.44    94.44           0.01            0.02          0.06               0.02         0.02                  0.01         22.54          16.67           152.20     1575.00              0.14               0.20             0.40                  0.16            0.24                     0.08          NaN\n5    843786         M        12.45         15.70           82.57     477.10             0.13              0.17            0.16                 0.08           0.21                    0.08       0.33        0.89          2.22    27.19           0.01            0.03          0.04               0.01         0.02                  0.01         15.47          23.75           103.40      741.60              0.18               0.52             0.54                  0.17            0.40                     0.12          NaN\n6    844359         M        18.25         19.98          119.60    1040.00             0.09              0.11            0.11                 0.07           0.18                    0.06       0.45        0.77          3.18    53.91           0.00            0.01          0.02               0.01         0.01                  0.00         22.88          27.66           153.20     1606.00              0.14               0.26             0.38                  0.19            0.31                     0.08          NaN\n7  84458202         M        13.71         20.83           90.20     577.90             0.12              0.16            0.09                 0.06           0.22                    0.07       0.58        1.38          3.86    50.96           0.01            0.03          0.02               0.01         0.01                  0.01         17.06          28.14           110.60      897.00              0.17               0.37             0.27                  0.16            0.32                     0.12          NaN\n8    844981         M        13.00         21.82           87.50     519.80             0.13              0.19            0.19                 0.09           0.23                    0.07       0.31        1.00          2.41    24.32           0.01            0.04          0.04               0.01         0.02                  0.00         15.49          30.73           106.20      739.30              0.17               0.54             0.54                  0.21            0.44                     0.11          NaN\n9  84501001         M        12.46         24.04           83.97     475.90             0.12              0.24            0.23                 0.09           0.20                    0.08       0.30        1.60          2.04    23.94           0.01            0.07          0.08               0.01         0.02                  0.01         15.09          40.68            97.65      711.40              0.19               1.06             1.10                  0.22            0.44                     0.21          NaN"
     },
     "execution_count": 7,
     "metadata": {},
     "output_type": "execute_result"
    }
   ],
   "source": [
    "# reading the csv file\n",
    "df = file_handler.read_csv(\"../data/data.csv\")\n",
    "df.head(10)"
   ]
  },
  {
   "cell_type": "markdown",
   "metadata": {},
   "source": [
    "## General Statistics"
   ]
  },
  {
   "cell_type": "code",
   "execution_count": 9,
   "metadata": {},
   "outputs": [
    {
     "data": {
      "text/plain": "18777"
     },
     "execution_count": 9,
     "metadata": {},
     "output_type": "execute_result"
    }
   ],
   "source": [
    "# number of elements in the df\n",
    "df.size"
   ]
  },
  {
   "cell_type": "code",
   "execution_count": 10,
   "metadata": {},
   "outputs": [
    {
     "data": {
      "text/plain": "(569, 33)"
     },
     "execution_count": 10,
     "metadata": {},
     "output_type": "execute_result"
    }
   ],
   "source": [
    "# rows and columns in the df\n",
    "df.shape"
   ]
  },
  {
   "cell_type": "code",
   "execution_count": 11,
   "metadata": {},
   "outputs": [
    {
     "name": "stdout",
     "output_type": "stream",
     "text": [
      "<class 'pandas.core.frame.DataFrame'>\n",
      "RangeIndex: 569 entries, 0 to 568\n",
      "Data columns (total 33 columns):\n",
      " #   Column                   Non-Null Count  Dtype  \n",
      "---  ------                   --------------  -----  \n",
      " 0   id                       569 non-null    int64  \n",
      " 1   diagnosis                569 non-null    object \n",
      " 2   radius_mean              569 non-null    float64\n",
      " 3   texture_mean             569 non-null    float64\n",
      " 4   perimeter_mean           569 non-null    float64\n",
      " 5   area_mean                569 non-null    float64\n",
      " 6   smoothness_mean          569 non-null    float64\n",
      " 7   compactness_mean         569 non-null    float64\n",
      " 8   concavity_mean           569 non-null    float64\n",
      " 9   concave points_mean      569 non-null    float64\n",
      " 10  symmetry_mean            569 non-null    float64\n",
      " 11  fractal_dimension_mean   569 non-null    float64\n",
      " 12  radius_se                569 non-null    float64\n",
      " 13  texture_se               569 non-null    float64\n",
      " 14  perimeter_se             569 non-null    float64\n",
      " 15  area_se                  569 non-null    float64\n",
      " 16  smoothness_se            569 non-null    float64\n",
      " 17  compactness_se           569 non-null    float64\n",
      " 18  concavity_se             569 non-null    float64\n",
      " 19  concave points_se        569 non-null    float64\n",
      " 20  symmetry_se              569 non-null    float64\n",
      " 21  fractal_dimension_se     569 non-null    float64\n",
      " 22  radius_worst             569 non-null    float64\n",
      " 23  texture_worst            569 non-null    float64\n",
      " 24  perimeter_worst          569 non-null    float64\n",
      " 25  area_worst               569 non-null    float64\n",
      " 26  smoothness_worst         569 non-null    float64\n",
      " 27  compactness_worst        569 non-null    float64\n",
      " 28  concavity_worst          569 non-null    float64\n",
      " 29  concave points_worst     569 non-null    float64\n",
      " 30  symmetry_worst           569 non-null    float64\n",
      " 31  fractal_dimension_worst  569 non-null    float64\n",
      " 32  Unnamed: 32              0 non-null      float64\n",
      "dtypes: float64(31), int64(1), object(1)\n",
      "memory usage: 146.8+ KB\n"
     ]
    }
   ],
   "source": [
    "df.info()"
   ]
  },
  {
   "cell_type": "markdown",
   "metadata": {},
   "source": [
    "## Missing Values"
   ]
  },
  {
   "cell_type": "code",
   "execution_count": 13,
   "metadata": {},
   "outputs": [
    {
     "name": "stdout",
     "output_type": "stream",
     "text": [
      "The dataset contains 3.03 % missing values.\n"
     ]
    }
   ],
   "source": [
    "percent_missing_values(df)"
   ]
  },
  {
   "cell_type": "code",
   "execution_count": 14,
   "metadata": {},
   "outputs": [
    {
     "name": "stdout",
     "output_type": "stream",
     "text": [
      "Your selected dataframe has 33 columns.\n",
      "There are 1 columns that have missing values.\n"
     ]
    }
   ],
   "source": [
    "missing_df = missing_values_table(df)"
   ]
  },
  {
   "cell_type": "code",
   "execution_count": 15,
   "metadata": {},
   "outputs": [
    {
     "data": {
      "text/html": "<div>\n<style scoped>\n    .dataframe tbody tr th:only-of-type {\n        vertical-align: middle;\n    }\n\n    .dataframe tbody tr th {\n        vertical-align: top;\n    }\n\n    .dataframe thead th {\n        text-align: right;\n    }\n</style>\n<table border=\"1\" class=\"dataframe\">\n  <thead>\n    <tr style=\"text-align: right;\">\n      <th></th>\n      <th>Missing Values</th>\n      <th>% of Total Values</th>\n      <th>Dtype</th>\n    </tr>\n  </thead>\n  <tbody>\n    <tr>\n      <th>Unnamed: 32</th>\n      <td>569</td>\n      <td>100.00</td>\n      <td>float64</td>\n    </tr>\n  </tbody>\n</table>\n</div>",
      "text/plain": "             Missing Values  % of Total Values    Dtype\nUnnamed: 32             569             100.00  float64"
     },
     "execution_count": 15,
     "metadata": {},
     "output_type": "execute_result"
    }
   ],
   "source": [
    "missing_df"
   ]
  },
  {
   "cell_type": "markdown",
   "metadata": {},
   "source": [
    "We can see here that we don't have any missing values, except for the column \"Unnamed: 32\", which has no value at all."
   ]
  },
  {
   "cell_type": "code",
   "execution_count": 16,
   "metadata": {},
   "outputs": [
    {
     "name": "stdout",
     "output_type": "stream",
     "text": [
      "1 column was dropped.\n"
     ]
    }
   ],
   "source": [
    "drop_columns(df, ['Unnamed: 32'])"
   ]
  },
  {
   "cell_type": "markdown",
   "metadata": {},
   "source": [
    "### Missing value"
   ]
  },
  {
   "cell_type": "code",
   "execution_count": null,
   "metadata": {},
   "outputs": [],
   "source": [
    "store_overview = DfOverview(df)\n",
    "store_overview.getOverview()"
   ]
  },
  {
   "cell_type": "markdown",
   "metadata": {},
   "source": [
    "There are 2 things that take my attention:\n",
    "- We can see that we don't have any missing values, except for column 32, which has no value. \n",
    "- the only categorical data is diagnosis"
   ]
  },
  {
   "cell_type": "code",
   "execution_count": null,
   "metadata": {},
   "outputs": [],
   "source": [
    "y = df.diagnosis # M or B\n",
    "x = df.drop(['Unnamed: 32', 'id', 'diagnosis'], axis=1)"
   ]
  },
  {
   "cell_type": "code",
   "execution_count": null,
   "metadata": {},
   "outputs": [],
   "source": [
    "Benign, Malignant = df['diagnosis'].value_counts()\n",
    "print(f\"Number of Benign is {Benign}\")\n",
    "print(f\"Number of Malignant is {Malignant}\")\n",
    "vs.plot_count(df, 'diagnosis', \"Diagnosis\", \"Diagnosis Count\")\n"
   ]
  },
  {
   "cell_type": "markdown",
   "metadata": {},
   "source": [
    "- Number of Benign is 357\n",
    "- Number of Malignant is 212"
   ]
  },
  {
   "cell_type": "markdown",
   "metadata": {},
   "source": [
    "### Outliers\n"
   ]
  },
  {
   "cell_type": "code",
   "execution_count": null,
   "metadata": {},
   "outputs": [],
   "source": [
    "df_outliers = DfOutlier(x.copy())\n",
    "overview = df_outliers.getOverview()\n",
    "overview"
   ]
  },
  {
   "cell_type": "markdown",
   "metadata": {},
   "source": [
    "Before violin and swarm plot we need to normalization or standirdization. Because differences between values of features are very high to observe on plot. I plot features in 3 group and each group includes 10 features to observe better."
   ]
  },
  {
   "cell_type": "code",
   "execution_count": null,
   "metadata": {},
   "outputs": [],
   "source": [
    "normal_x = helper.custome_normalizer(x)"
   ]
  },
  {
   "cell_type": "code",
   "execution_count": null,
   "metadata": {},
   "outputs": [],
   "source": [
    "mean_df = normal_x.iloc[:, 0:10]\n",
    "se_df = normal_x.iloc[:, 10:20]\n",
    "worest_df = normal_x.iloc[:, 20:30]\n",
    "\n",
    "print(\"Mean dataframe\")\n",
    "display(mean_df.head())\n",
    "\n",
    "print(\"satandar err dataframe\")\n",
    "display(se_df.head())\n",
    "\n",
    "print(\"Worest dataframe\")\n",
    "display(worest_df.head())\n",
    "\n",
    "# mean_df_dia = mean_df.copy()\n",
    "# mean_df_dia['diagnosis'] = cleaned_df['diagnosis']"
   ]
  },
  {
   "cell_type": "code",
   "execution_count": null,
   "metadata": {},
   "outputs": [],
   "source": [
    "print(\"Describe Mean\")\n",
    "display(mean_df.describe().T)\n",
    "mean_df_dia = mean_df.copy()\n",
    "mean_df_dia['diagnosis'] = y\n",
    "sns.pairplot(mean_df_dia, hue=\"diagnosis\")\n"
   ]
  },
  {
   "cell_type": "code",
   "execution_count": null,
   "metadata": {},
   "outputs": [],
   "source": [
    "print(\"Describe SE\")\n",
    "display(se_df.describe().T)\n",
    "\n",
    "se_df_dia = se_df.copy()\n",
    "se_df_dia['diagnosis'] = y\n",
    "sns.pairplot(se_df_dia, hue=\"diagnosis\")"
   ]
  },
  {
   "cell_type": "code",
   "execution_count": null,
   "metadata": {},
   "outputs": [],
   "source": [
    "print(\"Describe worest\")\n",
    "display(worest_df.describe().T)\n",
    "\n",
    "worest_df_dia = se_df.copy()\n",
    "worest_df_dia['diagnosis'] = y\n",
    "sns.pairplot(worest_df_dia, hue=\"diagnosis\")\n"
   ]
  },
  {
   "cell_type": "code",
   "execution_count": null,
   "metadata": {},
   "outputs": [],
   "source": [
    "def multi_histogram(_df: pd.DataFrame, target_col, target_col_name: str):\n",
    "    ind = 0\n",
    "    cols = _df.columns\n",
    "\n",
    "    fig, axs = plt.subplots(len(cols), figsize=(25,45))\n",
    "    \n",
    "    merged_df = _df.copy()\n",
    "    merged_df[target_col_name] = target_col\n",
    "\n",
    "    for col in cols:    \n",
    "            sns.histplot(merged_df, \n",
    "                         x=col, \n",
    "                         hue=target_col_name, element=\"poly\", \n",
    "                         stat=\"count\", \n",
    "                         palette=[\"#7158e2\", \"#32ff7e\"],\n",
    "                         ax=axs[ind])\n",
    "            ind += 1"
   ]
  },
  {
   "cell_type": "code",
   "execution_count": null,
   "metadata": {},
   "outputs": [],
   "source": [
    "multi_histogram(mean_df, y, \"diagnosis\")"
   ]
  },
  {
   "cell_type": "code",
   "execution_count": null,
   "metadata": {},
   "outputs": [],
   "source": [
    "multi_histogram(se_df, y, \"diagnosis\", )"
   ]
  },
  {
   "cell_type": "code",
   "execution_count": null,
   "metadata": {},
   "outputs": [],
   "source": [
    "multi_histogram(worest_df, y, \"diagnosis\", )"
   ]
  },
  {
   "cell_type": "code",
   "execution_count": null,
   "metadata": {},
   "outputs": [],
   "source": [
    "vs.violinplot(normal_x, y, 0, 10)\n"
   ]
  },
  {
   "cell_type": "code",
   "execution_count": null,
   "metadata": {},
   "outputs": [],
   "source": [
    "vs.violinplot(normal_x, y, 10, 20)\n"
   ]
  },
  {
   "cell_type": "code",
   "execution_count": null,
   "metadata": {},
   "outputs": [],
   "source": [
    "vs.violinplot(normal_x, y, 21, 30)\n"
   ]
  },
  {
   "cell_type": "code",
   "execution_count": null,
   "metadata": {},
   "outputs": [],
   "source": [
    "\n"
   ]
  },
  {
   "cell_type": "code",
   "execution_count": null,
   "metadata": {},
   "outputs": [],
   "source": [
    "vs.boxplot(normal_x, y, 0, 10)"
   ]
  },
  {
   "cell_type": "code",
   "execution_count": null,
   "metadata": {},
   "outputs": [],
   "source": []
  },
  {
   "cell_type": "code",
   "execution_count": null,
   "metadata": {},
   "outputs": [],
   "source": [
    "vs.swarmplot(normal_x, y, 0, 10)\n"
   ]
  },
  {
   "cell_type": "code",
   "execution_count": null,
   "metadata": {},
   "outputs": [],
   "source": [
    "vs.swarmplot(normal_x, y, 11, 21)\n"
   ]
  },
  {
   "cell_type": "code",
   "execution_count": null,
   "metadata": {},
   "outputs": [],
   "source": [
    "vs.swarmplot(normal_x, y, 21, 30)\n"
   ]
  },
  {
   "cell_type": "code",
   "execution_count": null,
   "metadata": {},
   "outputs": [],
   "source": []
  },
  {
   "cell_type": "code",
   "execution_count": null,
   "metadata": {},
   "outputs": [],
   "source": [
    "vs.plot_correlation(x)\n"
   ]
  },
  {
   "cell_type": "code",
   "execution_count": null,
   "metadata": {},
   "outputs": [],
   "source": []
  },
  {
   "cell_type": "code",
   "execution_count": null,
   "metadata": {},
   "outputs": [],
   "source": [
    "vs.pairplot(x, y, ['radius_worst', 'texture_worst',\n",
    "         'perimeter_worst', 'area_worst'])\n"
   ]
  },
  {
   "cell_type": "code",
   "execution_count": null,
   "metadata": {},
   "outputs": [],
   "source": [
    "# Getting Mean Columns with diagnosis\n",
    "m_col = ['diagnosis', 'radius_mean', 'texture_mean', 'perimeter_mean',\n",
    "         'area_mean', 'smoothness_mean', 'compactness_mean', 'concavity_mean',\n",
    "         'concave points_mean', 'symmetry_mean', 'fractal_dimension_mean']\n",
    "\n",
    "# Getting Se Columns with diagnosis\n",
    "s_col = ['diagnosis', 'radius_se', 'texture_se', 'perimeter_se', 'area_se', 'smoothness_se',\n",
    "         'compactness_se', 'concavity_se', 'concave points_se', 'symmetry_se',\n",
    "         'fractal_dimension_se']\n",
    "\n",
    "# Getting Worst column with diagnosis\n",
    "w_col = ['diagnosis', 'radius_worst', 'texture_worst',\n",
    "         'perimeter_worst', 'area_worst', 'smoothness_worst',\n",
    "         'compactness_worst', 'concavity_worst', 'concave points_worst',\n",
    "         'symmetry_worst', 'fractal_dimension_worst']"
   ]
  }
 ],
 "metadata": {
  "interpreter": {
   "hash": "1a61c0945fcaca021580664227e6bb3809d9f3fe70b572abf2d42b174fb44a3e"
  },
  "kernelspec": {
   "display_name": "Python 3.8.5 64-bit ('base': conda)",
   "name": "python385jvsc74a57bd0c30745a67ab3077685183c6616f760120387d2e186c7e6a99675e86d34cdfa12"
  },
  "language_info": {
   "codemirror_mode": {
    "name": "ipython",
    "version": 3
   },
   "file_extension": ".py",
   "mimetype": "text/x-python",
   "name": "python",
   "nbconvert_exporter": "python",
   "pygments_lexer": "ipython3",
   "version": "3.8.5"
  }
 },
 "nbformat": 4,
 "nbformat_minor": 2
}